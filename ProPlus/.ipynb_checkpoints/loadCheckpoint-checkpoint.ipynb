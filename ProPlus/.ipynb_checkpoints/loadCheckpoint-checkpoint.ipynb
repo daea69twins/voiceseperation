{
 "cells": [
  {
   "cell_type": "code",
   "execution_count": null,
   "id": "c2bf8849",
   "metadata": {},
   "outputs": [],
   "source": [
    "import torch\n",
    "from google.colab import drive\n",
    "drive.mount('/content/drive')\n",
    "import sys\n",
    "sys.path.insert(0,'/content/drive/My Drive')"
   ]
  },
  {
   "cell_type": "code",
   "execution_count": null,
   "id": "f694e820",
   "metadata": {},
   "outputs": [],
   "source": [
    "checkpoint = torch.load('/content/drive/MyDrive/output/lightning_logs/version_2/checkpoints/epoch=0-step=11467.ckpt')"
   ]
  }
 ],
 "metadata": {
  "kernelspec": {
   "display_name": "Python 3 (ipykernel)",
   "language": "python",
   "name": "python3"
  },
  "language_info": {
   "codemirror_mode": {
    "name": "ipython",
    "version": 3
   },
   "file_extension": ".py",
   "mimetype": "text/x-python",
   "name": "python",
   "nbconvert_exporter": "python",
   "pygments_lexer": "ipython3",
   "version": "3.9.7"
  }
 },
 "nbformat": 4,
 "nbformat_minor": 5
}
