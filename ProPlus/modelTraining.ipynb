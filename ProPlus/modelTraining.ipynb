{
 "cells": [
  {
   "cell_type": "code",
   "execution_count": null,
   "id": "d78f91fb",
   "metadata": {},
   "outputs": [],
   "source": [
    "# install asteroid\n",
    "!git clone https://github.com/asteroid-team/asteroid\n",
    "%cd asteroid\n",
    "!pip install -e .\n",
    "!pip install asteroid\n",
    "\n",
    "!pip install pytorch-lightning"
   ]
  },
  {
   "cell_type": "code",
   "execution_count": null,
   "id": "84feb612",
   "metadata": {},
   "outputs": [],
   "source": [
    "import torch\n",
    "from torch import optim\n",
    "from pytorch_lightning import Trainer\n",
    "from asteroid.models import ConvTasNet\n",
    "from asteroid.losses import pairwise_neg_sisdr, PITLossWrapper\n",
    "from asteroid.data import LibriMix\n",
    "from asteroid.engine import System\n",
    "from torch.utils.data import DataLoader\n",
    "\n",
    "# to enable cuda, you have to do a manual toggle in the settings\n",
    "# menu 'runtime->change runtime->hardware accelerator->gpu'\n",
    "torch.cuda.is_available()"
   ]
  },
  {
   "cell_type": "code",
   "execution_count": null,
   "id": "9017978a",
   "metadata": {},
   "outputs": [],
   "source": [
    "# import custom data set from py in google drive\n",
    "from google.colab import drive\n",
    "drive.mount('/content/drive')\n",
    "import sys\n",
    "sys.path.insert(0,'/content/drive/My Drive')\n",
    "from custom_dataset_sandbox import CustomMixture "
   ]
  },
  {
   "cell_type": "code",
   "execution_count": null,
   "id": "fc943ccc",
   "metadata": {},
   "outputs": [],
   "source": [
    "csv_path = '/content/drive/MyDrive/output/'\n",
    "%cd /content/drive/MyDrive/output/\n",
    "train_loader = DataLoader(CustomMixture(csv_path, \"truetrain_metadata.csv\"), num_workers=2, batch_size=1)\n",
    "val_loader = DataLoader(CustomMixture(csv_path, \"trueval_metadata.csv\"), num_workers=2, batch_size=1)"
   ]
  },
  {
   "cell_type": "code",
   "execution_count": null,
   "id": "95e9a81c",
   "metadata": {},
   "outputs": [],
   "source": [
    "model = ConvTasNet(n_src=2)\n",
    "\n",
    "# PITLossWrapper works with any loss function.\n",
    "loss = PITLossWrapper(pairwise_neg_sisdr, pit_from=\"pw_mtx\")\n",
    "\n",
    "optimizer = optim.Adam(model.parameters(), lr=1e-3)\n",
    "\n",
    "system = System(model, optimizer, loss, train_loader, val_loader)"
   ]
  },
  {
   "cell_type": "code",
   "execution_count": null,
   "id": "5c861afb",
   "metadata": {},
   "outputs": [],
   "source": [
    "trainer = Trainer(max_epochs=10, gpus=1, auto_select_gpus=True, log_every_n_steps=1)\n",
    "trainer.fit(system)"
   ]
  },
  {
   "cell_type": "code",
   "execution_count": null,
   "id": "9a0c4514",
   "metadata": {},
   "outputs": [],
   "source": [
    "# test_loader = DataLoader(CustomMixture(csv_path, \"truetest_metadata.csv\"), num_workers=2)\n",
    "# model.eval()"
   ]
  },
  {
   "cell_type": "code",
   "execution_count": null,
   "id": "80252838",
   "metadata": {},
   "outputs": [],
   "source": [
    "# import librosa\n",
    "# audiofile, _ = librosa.load('/content/drive/MyDrive/output/mixture/mixtureclip0.wav')\n",
    "# prediction = model(torch.from_numpy(audiofile))\n",
    "#trainer.test(model, dataloaders=test_loader)\n",
    "#print(prediction)"
   ]
  },
  {
   "cell_type": "code",
   "execution_count": null,
   "id": "194ad549",
   "metadata": {},
   "outputs": [],
   "source": [
    "# import torch\n",
    "# from google.colab import drive\n",
    "# drive.mount('/content/drive')\n",
    "# import sys\n",
    "# sys.path.insert(0,'/content/drive/My Drive')\n",
    "# torch.cuda.is_available()\n",
    "# checkpoint = torch.load('/content/drive/MyDrive/output/lightning_logs/version_2/checkpoints/epoch=0-step=11467.ckpt')\n",
    "# torch.cuda.is_available()\n",
    "\n",
    "# #print(checkpoint.keys())\n",
    "# model = ConvTasNet(n_src=2)\n",
    "# # model.from_pretrained(ConvTasNet, checkpoint['state_dict'])\n",
    "# model.load_state_dict(checkpoint['state_dict'])"
   ]
  }
 ],
 "metadata": {
  "kernelspec": {
   "display_name": "Python 3 (ipykernel)",
   "language": "python",
   "name": "python3"
  },
  "language_info": {
   "codemirror_mode": {
    "name": "ipython",
    "version": 3
   },
   "file_extension": ".py",
   "mimetype": "text/x-python",
   "name": "python",
   "nbconvert_exporter": "python",
   "pygments_lexer": "ipython3",
   "version": "3.9.7"
  }
 },
 "nbformat": 4,
 "nbformat_minor": 5
}
