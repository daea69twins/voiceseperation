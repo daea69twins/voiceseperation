{
 "cells": [
  {
   "cell_type": "code",
   "execution_count": null,
   "id": "dc594433",
   "metadata": {},
   "outputs": [],
   "source": [
    "import os\n",
    "import sys"
   ]
  },
  {
   "cell_type": "code",
   "execution_count": null,
   "id": "864dd21c",
   "metadata": {},
   "outputs": [],
   "source": [
    "from google.colab import drive\n",
    "drive.mount('/content/drive')\n",
    "sys.path.insert(0,'/content/drive/My Drive')"
   ]
  },
  {
   "cell_type": "code",
   "execution_count": null,
   "id": "b5029fc8",
   "metadata": {},
   "outputs": [],
   "source": [
    "clean = os.listdir('/content/drive/MyDrive/output/clean')\n",
    "print('clean: ', len(clean))\n",
    "\n",
    "\n",
    "\n",
    "mixture = os.listdir('/content/drive/MyDrive/output/mixture')\n",
    "print('mixture: ', len(mixture))\n",
    "\n",
    "\n",
    "noise = os.listdir('/content/drive/MyDrive/output/noise')\n",
    "print('noise: ', len(noise))"
   ]
  },
  {
   "cell_type": "code",
   "execution_count": null,
   "id": "742b25c1",
   "metadata": {},
   "outputs": [],
   "source": [
    "dupes = []\n",
    "for x in mixture:\n",
    "    if '(' in x:\n",
    "        dupes.append(x)\n",
    "print('noise: ', dupes)\n"
   ]
  },
  {
   "cell_type": "code",
   "execution_count": null,
   "id": "6c80ae27",
   "metadata": {},
   "outputs": [],
   "source": [
    "for x in dupes:\n",
    "  os.remove('/content/drive/MyDrive/output/noise/' + x)"
   ]
  },
  {
   "cell_type": "code",
   "execution_count": null,
   "id": "6eb01c87",
   "metadata": {},
   "outputs": [],
   "source": [
    "import csv\n",
    "from os.path import exists\n",
    "csvfile = open('/content/drive/MyDrive/output/test_metadata.csv', 'r')\n",
    "reader = csv.reader(csvfile, delimiter=',')\n",
    "\n",
    "dir = '/content/drive/MyDrive/output/'\n",
    "\n",
    "\n",
    "true_csv = open('/content/drive/MyDrive/output/truetest_metadata.csv', 'w')\n",
    "writer = csv.writer(true_csv, delimiter=',')\n",
    "\n",
    "writer.writerow(next(reader))\n",
    "\n",
    "for x in reader:\n",
    "  #print(x)\n",
    "  #1 is mixture, 2 is clean, 3 is noise\n",
    "  if exists(dir + x[1]) and exists(dir + x[2]) and exists(dir + x[3]):\n",
    "    writer.writerow(x)\n",
    "\n",
    "\n",
    "csvfile.close()\n",
    "true_csv.close()"
   ]
  }
 ],
 "metadata": {
  "kernelspec": {
   "display_name": "Python 3 (ipykernel)",
   "language": "python",
   "name": "python3"
  },
  "language_info": {
   "codemirror_mode": {
    "name": "ipython",
    "version": 3
   },
   "file_extension": ".py",
   "mimetype": "text/x-python",
   "name": "python",
   "nbconvert_exporter": "python",
   "pygments_lexer": "ipython3",
   "version": "3.9.7"
  }
 },
 "nbformat": 4,
 "nbformat_minor": 5
}
