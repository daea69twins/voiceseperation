{
 "cells": [
  {
   "cell_type": "code",
   "execution_count": 3,
   "id": "b509164d",
   "metadata": {},
   "outputs": [],
   "source": [
    "\"\"\"\n",
    "This script loads a .wav file, and depending on the script parameters specified below, creates an array of\n",
    "overlapping audio clips.\n",
    "\n",
    "Alexander Brown, 2/2022\n",
    "\n",
    "\n",
    "\n",
    "So we want to load the entire audio clip, split it into overlapping\n",
    "clips, then save the array of those clips to file\n",
    "\n",
    "If we use exactly 25min (1500sec) of audio, with 4sec blocks and 1sec hops,\n",
    "we would get 1497 4sec clips\n",
    "\"\"\"\n",
    "\n",
    "import numpy as np\n",
    "import librosa"
   ]
  },
  {
   "cell_type": "code",
   "execution_count": 2,
   "id": "c8d5e546",
   "metadata": {},
   "outputs": [],
   "source": [
    "\"\"\"\n",
    "Specify script parameters\n",
    "\"\"\"\n",
    "# specify the working directory; note that directory notation must use '/' rather than '\\'\n",
    "folderpath = 'F:/ZaknafeinII_Backup_02-02-22/daea/cleanedWaves/'\n",
    "filename = 'id10484_merged_cleaned.wav'\n",
    "savepath = 'F:/ZaknafeinII_Backup_02-02-22/daea/cleanedWavesClips/'\n",
    "audio_length_to_keep = 25 # minutes\n",
    "clip_length = 4 # seconds\n",
    "hop_length = 1 # seconds\n",
    "\n",
    "# load the .wav file\n",
    "audio_orig, s_rate = librosa.load(folderpath+filename) "
   ]
  },
  {
   "cell_type": "code",
   "execution_count": 3,
   "id": "ce0d4b96",
   "metadata": {},
   "outputs": [
    {
     "name": "stdout",
     "output_type": "stream",
     "text": [
      "Length of audio file in frames: 34396952 frames\n",
      "Audio sampling rate: 22050 frames/sec\n"
     ]
    }
   ],
   "source": [
    "print('Length of audio file in frames: %i frames' % (len(audio_orig)))\n",
    "print('Audio sampling rate: %i frames/sec' % (s_rate))"
   ]
  },
  {
   "cell_type": "code",
   "execution_count": 4,
   "id": "1937e340",
   "metadata": {},
   "outputs": [
    {
     "name": "stdout",
     "output_type": "stream",
     "text": [
      "Audio length to keep: 25 minutes \n",
      "Frames to keep: 33075000 frames \n",
      "Frames truncated: 1321952 frames \n",
      "New frames count: 33075000 frames \n",
      "\n",
      "Clip length: 4 seconds \n",
      "Hop length: 1 secoonds \n",
      "Frames per clip: 88200 frames \n",
      "Frames per hop: 22050 frames\n"
     ]
    }
   ],
   "source": [
    "\"\"\"\n",
    "if the sampling rate is 22050 frames/sec:\n",
    "    if we want to 'truncate' the audio data to 25min (1500sec), then we need to truncate at 33075000 frames\n",
    "    if we want 4 sec clips, then we need clips of 88200 frames\n",
    "    if we want 1 sec hops, then we need hops of 22050 frames\n",
    "\"\"\"\n",
    "\n",
    "frames_to_keep = audio_length_to_keep * 60 * s_rate\n",
    "audio_trunc = audio_orig[0:frames_to_keep]\n",
    "\n",
    "frames_per_clip = clip_length * s_rate\n",
    "frames_per_hop = hop_length * s_rate\n",
    "\n",
    "print('Audio length to keep: %i minutes \\nFrames to keep: %i frames \\nFrames truncated: %i frames \\n'\\\n",
    "      'New frames count: %i frames \\n\\nClip length: %i seconds \\nHop length: %i secoonds \\n'\\\n",
    "      'Frames per clip: %i frames \\nFrames per hop: %i frames' \n",
    "      % (audio_length_to_keep, frames_to_keep, len(audio_orig)-frames_to_keep, len(audio_trunc), \n",
    "         clip_length, hop_length, frames_per_clip, frames_per_hop))"
   ]
  },
  {
   "cell_type": "code",
   "execution_count": 5,
   "id": "26a680e8",
   "metadata": {},
   "outputs": [],
   "source": [
    "\"\"\"\n",
    "So we start at index 0, forming clips of length frames_per_clip (probably 88200 frames) \n",
    "and we jump up frames_per_hop (probably 22050 frames) before we take the next clip\n",
    "\"\"\"\n",
    "clip_starting_frame = 0\n",
    "clip_list = []\n",
    "\n",
    "# won't enter unless there is at least a full clip of frames left\n",
    "while clip_starting_frame + frames_per_clip <= len(audio_trunc):\n",
    "    \n",
    "    # determine the ending frame\n",
    "    clip_ending_frame = clip_starting_frame + frames_per_clip\n",
    "    \n",
    "    # append the array slice to the list of audio clips\n",
    "    clip_list.append(np.array(audio_trunc[clip_starting_frame:clip_ending_frame]))\n",
    "    \n",
    "    # update the starting frame\n",
    "    clip_starting_frame = clip_starting_frame + frames_per_hop\n",
    "    \n",
    "clip_list = np.array(clip_list)"
   ]
  },
  {
   "cell_type": "code",
   "execution_count": 6,
   "id": "dacc488b",
   "metadata": {},
   "outputs": [
    {
     "name": "stdout",
     "output_type": "stream",
     "text": [
      "clip_list shape:  (1497, 88200)\n",
      "Clip count: 1497, frames per clip: 88200\n"
     ]
    }
   ],
   "source": [
    "print('clip_list shape: ', clip_list.shape)\n",
    "print('Clip count: %i, frames per clip: %i' % (clip_list.shape[0], clip_list.shape[1]))"
   ]
  },
  {
   "cell_type": "code",
   "execution_count": 7,
   "id": "11b6df6b",
   "metadata": {},
   "outputs": [],
   "source": [
    "with open(savepath+filename+'_clips.npy', 'wb') as f:\n",
    "    np.save(f, clip_list)"
   ]
  }
 ],
 "metadata": {
  "kernelspec": {
   "display_name": "Python 3 (ipykernel)",
   "language": "python",
   "name": "python3"
  },
  "language_info": {
   "codemirror_mode": {
    "name": "ipython",
    "version": 3
   },
   "file_extension": ".py",
   "mimetype": "text/x-python",
   "name": "python",
   "nbconvert_exporter": "python",
   "pygments_lexer": "ipython3",
   "version": "3.9.7"
  }
 },
 "nbformat": 4,
 "nbformat_minor": 5
}
