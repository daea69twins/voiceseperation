{
 "cells": [
  {
   "cell_type": "code",
   "execution_count": 1,
   "id": "b509164d",
   "metadata": {},
   "outputs": [],
   "source": [
    "\"\"\"\n",
    "This script loads a .wav file, and depending on the script parameters specified below, creates an array of\n",
    "overlapping audio clips.\n",
    "\n",
    "Alexander Brown, 2/2022\n",
    "\n",
    "\n",
    "\n",
    "So we want to load the entire audio clip, split it into overlapping\n",
    "clips, then save the array of those clips to file\n",
    "\n",
    "If we use exactly 25min (1500sec) of audio, with 4sec blocks and 1sec hops,\n",
    "we would get 1497 4sec clips\n",
    "\"\"\"\n",
    "\n",
    "import numpy as np\n",
    "import librosa\n",
    "import soundfile as sf\n",
    "import os\n",
    "import json"
   ]
  },
  {
   "cell_type": "code",
   "execution_count": 2,
   "id": "c8d5e546",
   "metadata": {},
   "outputs": [],
   "source": [
    "\"\"\"\n",
    "Specify script parameters\n",
    "\"\"\"\n",
    "# specify the working directory; note that directory notation must use '/' rather than '\\'\n",
    "sourcepath = 'F:/ZaknafeinII_Backup_02-02-22/daea/mergedWaves/mergedWaves/'\n",
    "savepath = 'F:/ZaknafeinII_Backup_02-02-22/daea/prepareForCtnTraining/source_clips/'\n",
    "\n",
    "clip_length = 4 # seconds\n",
    "hop_length = 0.25 # seconds\n",
    "s_rate = 22050"
   ]
  },
  {
   "cell_type": "code",
   "execution_count": 3,
   "id": "1937e340",
   "metadata": {},
   "outputs": [
    {
     "name": "stdout",
     "output_type": "stream",
     "text": [
      "Clip length: 4.000000 seconds \n",
      "Hop length: 0.250000 seconds \n",
      "Frames per clip: 88200.000000 frames \n",
      "Frames per hop: 5512.000000 frames\n"
     ]
    }
   ],
   "source": [
    "\"\"\"\n",
    "if the sampling rate is 22050 frames/sec:\n",
    "    if we want 4 sec clips, then we need clips of 88200 frames\n",
    "    if we want 1 sec hops, then we need hops of 22050 frames\n",
    "\"\"\"\n",
    "\n",
    "frames_per_clip = int(clip_length * s_rate)\n",
    "frames_per_hop = int((hop_length * s_rate)//1)\n",
    "\n",
    "print('Clip length: %f seconds \\nHop length: %f seconds \\n'\\\n",
    "      'Frames per clip: %f frames \\nFrames per hop: %f frames' \n",
    "      % (clip_length, hop_length, frames_per_clip, frames_per_hop))"
   ]
  },
  {
   "cell_type": "code",
   "execution_count": 4,
   "id": "26a680e8",
   "metadata": {},
   "outputs": [],
   "source": [
    "def clipify(filename, audio_orig):\n",
    "    \"\"\"\n",
    "    So we start at index 0, forming clips of length frames_per_clip (probably 88200 frames) \n",
    "    and we jump up frames_per_hop (probably 22050 frames) before we take the next clip\n",
    "    \"\"\"\n",
    "    clip_starting_frame = 0\n",
    "    curr_clip = None\n",
    "    savenote = None\n",
    "    count = 0\n",
    "    namelist = []\n",
    "    \n",
    "    # make the output directory for the given audio file\n",
    "    os.mkdir(savepath+filename)\n",
    "\n",
    "    # when we get close to the end, the clips will start pulling from the beginning\n",
    "    while clip_starting_frame <= len(audio_orig): \n",
    "        \n",
    "        # determine the ending frame\n",
    "        clip_ending_frame = clip_starting_frame + frames_per_clip\n",
    "\n",
    "        # append the array slice to the list of audio clips\n",
    "        if clip_ending_frame < len(audio_orig):\n",
    "            curr_clip = np.array(audio_orig[clip_starting_frame:clip_ending_frame])\n",
    "            savenote = str(clip_starting_frame)+'-'+str(clip_ending_frame)\n",
    "        else:\n",
    "            leftover = clip_ending_frame - len(audio_orig)\n",
    "            curr_clip = np.concatenate((audio_orig[clip_starting_frame:], audio_orig[0:leftover]))\n",
    "            savenote = str(clip_starting_frame)+'-'+str(leftover)\n",
    "\n",
    "        # save the selected clip to file\n",
    "        sf.write(savepath+filename+'/'+filename+'_'+savenote+'.wav', curr_clip, s_rate)\n",
    "\n",
    "        # update the starting frame\n",
    "        clip_starting_frame = clip_starting_frame + frames_per_hop\n",
    "        count = count + 1\n",
    "        namelist.append(filename+'_'+savenote+'.wav')\n",
    "        \n",
    "    print('for %s: created %i .wav files' % (filename, count))\n",
    "    \n",
    "    return namelist"
   ]
  },
  {
   "cell_type": "code",
   "execution_count": 5,
   "id": "dacc488b",
   "metadata": {},
   "outputs": [
    {
     "name": "stdout",
     "output_type": "stream",
     "text": [
      "45 files found in F:/ZaknafeinII_Backup_02-02-22/daea/mergedWaves/mergedWaves/\n",
      "for id10016_merged: created 9574 .wav files\n",
      "for id10018_merged: created 7315 .wav files\n",
      "for id10020_merged: created 18041 .wav files\n",
      "for id10045_merged: created 7713 .wav files\n",
      "for id10104_merged: created 9360 .wav files\n",
      "for id10107_merged: created 8196 .wav files\n",
      "for id10130_merged: created 7586 .wav files\n",
      "for id10148_merged: created 7950 .wav files\n",
      "for id10168_merged: created 10561 .wav files\n",
      "for id10254_merged: created 7541 .wav files\n",
      "for id10321_merged: created 8351 .wav files\n",
      "for id10343_merged: created 10797 .wav files\n",
      "for id10352_merged: created 9548 .wav files\n",
      "for id10353_merged: created 7527 .wav files\n",
      "for id10356_merged: created 7263 .wav files\n",
      "for id10376_merged: created 8580 .wav files\n",
      "for id10449_merged: created 7296 .wav files\n",
      "for id10484_merged: created 8060 .wav files\n",
      "for id10486_merged: created 7463 .wav files\n",
      "for id10525_merged: created 9499 .wav files\n",
      "for id10535_merged: created 8551 .wav files\n",
      "for id10715_merged: created 15164 .wav files\n",
      "for id10756_merged: created 10339 .wav files\n",
      "for id10758_merged: created 8271 .wav files\n",
      "for id10786_merged: created 12488 .wav files\n",
      "for id10856_merged: created 8456 .wav files\n",
      "for id10873_merged: created 7884 .wav files\n",
      "for id10918_merged: created 8687 .wav files\n"
     ]
    },
    {
     "ename": "MemoryError",
     "evalue": "Unable to allocate 251. MiB for an array with shape (65767609,) and data type float32",
     "output_type": "error",
     "traceback": [
      "\u001b[1;31m---------------------------------------------------------------------------\u001b[0m",
      "\u001b[1;31mMemoryError\u001b[0m                               Traceback (most recent call last)",
      "\u001b[1;32mC:\\Users\\ZAKNAF~1\\AppData\\Local\\Temp/ipykernel_16892/885779742.py\u001b[0m in \u001b[0;36m<module>\u001b[1;34m\u001b[0m\n\u001b[0;32m      6\u001b[0m \u001b[0mprint\u001b[0m\u001b[1;33m(\u001b[0m\u001b[1;34m'%s files found in %s'\u001b[0m \u001b[1;33m%\u001b[0m \u001b[1;33m(\u001b[0m\u001b[0mlen\u001b[0m\u001b[1;33m(\u001b[0m\u001b[0msource_contents\u001b[0m\u001b[1;33m)\u001b[0m\u001b[1;33m,\u001b[0m \u001b[0msourcepath\u001b[0m\u001b[1;33m)\u001b[0m\u001b[1;33m)\u001b[0m\u001b[1;33m\u001b[0m\u001b[1;33m\u001b[0m\u001b[0m\n\u001b[0;32m      7\u001b[0m \u001b[1;32mfor\u001b[0m \u001b[0mfilename\u001b[0m \u001b[1;32min\u001b[0m \u001b[0msource_contents\u001b[0m\u001b[1;33m:\u001b[0m\u001b[1;33m\u001b[0m\u001b[1;33m\u001b[0m\u001b[0m\n\u001b[1;32m----> 8\u001b[1;33m     \u001b[0maudio\u001b[0m\u001b[1;33m,\u001b[0m \u001b[0m_\u001b[0m \u001b[1;33m=\u001b[0m \u001b[0mlibrosa\u001b[0m\u001b[1;33m.\u001b[0m\u001b[0mload\u001b[0m\u001b[1;33m(\u001b[0m\u001b[0msourcepath\u001b[0m\u001b[1;33m+\u001b[0m\u001b[0mfilename\u001b[0m\u001b[1;33m)\u001b[0m\u001b[1;33m\u001b[0m\u001b[1;33m\u001b[0m\u001b[0m\n\u001b[0m\u001b[0;32m      9\u001b[0m     \u001b[0mfilename\u001b[0m \u001b[1;33m=\u001b[0m \u001b[0mfilename\u001b[0m\u001b[1;33m[\u001b[0m\u001b[1;33m:\u001b[0m\u001b[1;33m-\u001b[0m\u001b[1;36m4\u001b[0m\u001b[1;33m]\u001b[0m\u001b[1;33m\u001b[0m\u001b[1;33m\u001b[0m\u001b[0m\n\u001b[0;32m     10\u001b[0m     \u001b[0mmetadata_dict\u001b[0m\u001b[1;33m[\u001b[0m\u001b[0mfilename\u001b[0m\u001b[1;33m]\u001b[0m \u001b[1;33m=\u001b[0m \u001b[0mclipify\u001b[0m\u001b[1;33m(\u001b[0m\u001b[0mfilename\u001b[0m\u001b[1;33m,\u001b[0m \u001b[0maudio\u001b[0m\u001b[1;33m)\u001b[0m\u001b[1;33m\u001b[0m\u001b[1;33m\u001b[0m\u001b[0m\n",
      "\u001b[1;32m~\\anaconda3\\lib\\site-packages\\librosa\\core\\audio.py\u001b[0m in \u001b[0;36mload\u001b[1;34m(path, sr, mono, offset, duration, dtype, res_type)\u001b[0m\n\u001b[0;32m    173\u001b[0m \u001b[1;33m\u001b[0m\u001b[0m\n\u001b[0;32m    174\u001b[0m     \u001b[1;32mif\u001b[0m \u001b[0msr\u001b[0m \u001b[1;32mis\u001b[0m \u001b[1;32mnot\u001b[0m \u001b[1;32mNone\u001b[0m\u001b[1;33m:\u001b[0m\u001b[1;33m\u001b[0m\u001b[1;33m\u001b[0m\u001b[0m\n\u001b[1;32m--> 175\u001b[1;33m         \u001b[0my\u001b[0m \u001b[1;33m=\u001b[0m \u001b[0mresample\u001b[0m\u001b[1;33m(\u001b[0m\u001b[0my\u001b[0m\u001b[1;33m,\u001b[0m \u001b[0msr_native\u001b[0m\u001b[1;33m,\u001b[0m \u001b[0msr\u001b[0m\u001b[1;33m,\u001b[0m \u001b[0mres_type\u001b[0m\u001b[1;33m=\u001b[0m\u001b[0mres_type\u001b[0m\u001b[1;33m)\u001b[0m\u001b[1;33m\u001b[0m\u001b[1;33m\u001b[0m\u001b[0m\n\u001b[0m\u001b[0;32m    176\u001b[0m \u001b[1;33m\u001b[0m\u001b[0m\n\u001b[0;32m    177\u001b[0m     \u001b[1;32melse\u001b[0m\u001b[1;33m:\u001b[0m\u001b[1;33m\u001b[0m\u001b[1;33m\u001b[0m\u001b[0m\n",
      "\u001b[1;32m~\\anaconda3\\lib\\site-packages\\librosa\\core\\audio.py\u001b[0m in \u001b[0;36mresample\u001b[1;34m(y, orig_sr, target_sr, res_type, fix, scale, **kwargs)\u001b[0m\n\u001b[0;32m    605\u001b[0m \u001b[1;33m\u001b[0m\u001b[0m\n\u001b[0;32m    606\u001b[0m     \u001b[1;32mif\u001b[0m \u001b[0mfix\u001b[0m\u001b[1;33m:\u001b[0m\u001b[1;33m\u001b[0m\u001b[1;33m\u001b[0m\u001b[0m\n\u001b[1;32m--> 607\u001b[1;33m         \u001b[0my_hat\u001b[0m \u001b[1;33m=\u001b[0m \u001b[0mutil\u001b[0m\u001b[1;33m.\u001b[0m\u001b[0mfix_length\u001b[0m\u001b[1;33m(\u001b[0m\u001b[0my_hat\u001b[0m\u001b[1;33m,\u001b[0m \u001b[0mn_samples\u001b[0m\u001b[1;33m,\u001b[0m \u001b[1;33m**\u001b[0m\u001b[0mkwargs\u001b[0m\u001b[1;33m)\u001b[0m\u001b[1;33m\u001b[0m\u001b[1;33m\u001b[0m\u001b[0m\n\u001b[0m\u001b[0;32m    608\u001b[0m \u001b[1;33m\u001b[0m\u001b[0m\n\u001b[0;32m    609\u001b[0m     \u001b[1;32mif\u001b[0m \u001b[0mscale\u001b[0m\u001b[1;33m:\u001b[0m\u001b[1;33m\u001b[0m\u001b[1;33m\u001b[0m\u001b[0m\n",
      "\u001b[1;32m~\\anaconda3\\lib\\site-packages\\librosa\\util\\utils.py\u001b[0m in \u001b[0;36mfix_length\u001b[1;34m(data, size, axis, **kwargs)\u001b[0m\n\u001b[0;32m    508\u001b[0m         \u001b[0mlengths\u001b[0m \u001b[1;33m=\u001b[0m \u001b[1;33m[\u001b[0m\u001b[1;33m(\u001b[0m\u001b[1;36m0\u001b[0m\u001b[1;33m,\u001b[0m \u001b[1;36m0\u001b[0m\u001b[1;33m)\u001b[0m\u001b[1;33m]\u001b[0m \u001b[1;33m*\u001b[0m \u001b[0mdata\u001b[0m\u001b[1;33m.\u001b[0m\u001b[0mndim\u001b[0m\u001b[1;33m\u001b[0m\u001b[1;33m\u001b[0m\u001b[0m\n\u001b[0;32m    509\u001b[0m         \u001b[0mlengths\u001b[0m\u001b[1;33m[\u001b[0m\u001b[0maxis\u001b[0m\u001b[1;33m]\u001b[0m \u001b[1;33m=\u001b[0m \u001b[1;33m(\u001b[0m\u001b[1;36m0\u001b[0m\u001b[1;33m,\u001b[0m \u001b[0msize\u001b[0m \u001b[1;33m-\u001b[0m \u001b[0mn\u001b[0m\u001b[1;33m)\u001b[0m\u001b[1;33m\u001b[0m\u001b[1;33m\u001b[0m\u001b[0m\n\u001b[1;32m--> 510\u001b[1;33m         \u001b[1;32mreturn\u001b[0m \u001b[0mnp\u001b[0m\u001b[1;33m.\u001b[0m\u001b[0mpad\u001b[0m\u001b[1;33m(\u001b[0m\u001b[0mdata\u001b[0m\u001b[1;33m,\u001b[0m \u001b[0mlengths\u001b[0m\u001b[1;33m,\u001b[0m \u001b[1;33m**\u001b[0m\u001b[0mkwargs\u001b[0m\u001b[1;33m)\u001b[0m\u001b[1;33m\u001b[0m\u001b[1;33m\u001b[0m\u001b[0m\n\u001b[0m\u001b[0;32m    511\u001b[0m \u001b[1;33m\u001b[0m\u001b[0m\n\u001b[0;32m    512\u001b[0m     \u001b[1;32mreturn\u001b[0m \u001b[0mdata\u001b[0m\u001b[1;33m\u001b[0m\u001b[1;33m\u001b[0m\u001b[0m\n",
      "\u001b[1;32m<__array_function__ internals>\u001b[0m in \u001b[0;36mpad\u001b[1;34m(*args, **kwargs)\u001b[0m\n",
      "\u001b[1;32m~\\anaconda3\\lib\\site-packages\\numpy\\lib\\arraypad.py\u001b[0m in \u001b[0;36mpad\u001b[1;34m(array, pad_width, mode, **kwargs)\u001b[0m\n\u001b[0;32m    791\u001b[0m     \u001b[1;31m# Create array with final shape and original values\u001b[0m\u001b[1;33m\u001b[0m\u001b[1;33m\u001b[0m\u001b[0m\n\u001b[0;32m    792\u001b[0m     \u001b[1;31m# (padded area is undefined)\u001b[0m\u001b[1;33m\u001b[0m\u001b[1;33m\u001b[0m\u001b[0m\n\u001b[1;32m--> 793\u001b[1;33m     \u001b[0mpadded\u001b[0m\u001b[1;33m,\u001b[0m \u001b[0moriginal_area_slice\u001b[0m \u001b[1;33m=\u001b[0m \u001b[0m_pad_simple\u001b[0m\u001b[1;33m(\u001b[0m\u001b[0marray\u001b[0m\u001b[1;33m,\u001b[0m \u001b[0mpad_width\u001b[0m\u001b[1;33m)\u001b[0m\u001b[1;33m\u001b[0m\u001b[1;33m\u001b[0m\u001b[0m\n\u001b[0m\u001b[0;32m    794\u001b[0m     \u001b[1;31m# And prepare iteration over all dimensions\u001b[0m\u001b[1;33m\u001b[0m\u001b[1;33m\u001b[0m\u001b[0m\n\u001b[0;32m    795\u001b[0m     \u001b[1;31m# (zipping may be more readable than using enumerate)\u001b[0m\u001b[1;33m\u001b[0m\u001b[1;33m\u001b[0m\u001b[0m\n",
      "\u001b[1;32m~\\anaconda3\\lib\\site-packages\\numpy\\lib\\arraypad.py\u001b[0m in \u001b[0;36m_pad_simple\u001b[1;34m(array, pad_width, fill_value)\u001b[0m\n\u001b[0;32m    112\u001b[0m     )\n\u001b[0;32m    113\u001b[0m     \u001b[0morder\u001b[0m \u001b[1;33m=\u001b[0m \u001b[1;34m'F'\u001b[0m \u001b[1;32mif\u001b[0m \u001b[0marray\u001b[0m\u001b[1;33m.\u001b[0m\u001b[0mflags\u001b[0m\u001b[1;33m.\u001b[0m\u001b[0mfnc\u001b[0m \u001b[1;32melse\u001b[0m \u001b[1;34m'C'\u001b[0m  \u001b[1;31m# Fortran and not also C-order\u001b[0m\u001b[1;33m\u001b[0m\u001b[1;33m\u001b[0m\u001b[0m\n\u001b[1;32m--> 114\u001b[1;33m     \u001b[0mpadded\u001b[0m \u001b[1;33m=\u001b[0m \u001b[0mnp\u001b[0m\u001b[1;33m.\u001b[0m\u001b[0mempty\u001b[0m\u001b[1;33m(\u001b[0m\u001b[0mnew_shape\u001b[0m\u001b[1;33m,\u001b[0m \u001b[0mdtype\u001b[0m\u001b[1;33m=\u001b[0m\u001b[0marray\u001b[0m\u001b[1;33m.\u001b[0m\u001b[0mdtype\u001b[0m\u001b[1;33m,\u001b[0m \u001b[0morder\u001b[0m\u001b[1;33m=\u001b[0m\u001b[0morder\u001b[0m\u001b[1;33m)\u001b[0m\u001b[1;33m\u001b[0m\u001b[1;33m\u001b[0m\u001b[0m\n\u001b[0m\u001b[0;32m    115\u001b[0m \u001b[1;33m\u001b[0m\u001b[0m\n\u001b[0;32m    116\u001b[0m     \u001b[1;32mif\u001b[0m \u001b[0mfill_value\u001b[0m \u001b[1;32mis\u001b[0m \u001b[1;32mnot\u001b[0m \u001b[1;32mNone\u001b[0m\u001b[1;33m:\u001b[0m\u001b[1;33m\u001b[0m\u001b[1;33m\u001b[0m\u001b[0m\n",
      "\u001b[1;31mMemoryError\u001b[0m: Unable to allocate 251. MiB for an array with shape (65767609,) and data type float32"
     ]
    }
   ],
   "source": [
    "# stores the generated filenames for all the .wav files\n",
    "metadata_dict = {}\n",
    "\n",
    "# iterate through each source file, \"clipifying\" each of them\n",
    "source_contents = os.listdir(sourcepath)\n",
    "print('%s files found in %s' % (len(source_contents), sourcepath))\n",
    "for filename in source_contents:\n",
    "    audio, _ = librosa.load(sourcepath+filename)\n",
    "    filename = filename[:-4]\n",
    "    metadata_dict[filename] = clipify(filename, audio)\n",
    "    \n",
    "# output the metadata file as a JSON object\n",
    "json = json.dumps(metadata_dict)\n",
    "with open(savepath+'metadata.json', 'w') as f:\n",
    "    f.write(json)"
   ]
  },
  {
   "cell_type": "code",
   "execution_count": null,
   "id": "11b6df6b",
   "metadata": {},
   "outputs": [],
   "source": []
  },
  {
   "cell_type": "code",
   "execution_count": null,
   "id": "1119e19d",
   "metadata": {},
   "outputs": [],
   "source": []
  }
 ],
 "metadata": {
  "kernelspec": {
   "display_name": "Python 3 (ipykernel)",
   "language": "python",
   "name": "python3"
  },
  "language_info": {
   "codemirror_mode": {
    "name": "ipython",
    "version": 3
   },
   "file_extension": ".py",
   "mimetype": "text/x-python",
   "name": "python",
   "nbconvert_exporter": "python",
   "pygments_lexer": "ipython3",
   "version": "3.9.7"
  }
 },
 "nbformat": 4,
 "nbformat_minor": 5
}
