{
 "cells": [
  {
   "cell_type": "code",
   "execution_count": 56,
   "id": "b874b2f5",
   "metadata": {},
   "outputs": [],
   "source": [
    "\"\"\"\n",
    "\n",
    "\n",
    "\n",
    "To use this script, make the following preparations:\n",
    "- Create a working directory\n",
    "- Inside the working directory, have a single ..._clips.npy file. This file will correspond to which\n",
    "  character's model the generated data will be used to train.\n",
    "- Inside the working directory, have a single folder named 'overlay_clips'\n",
    "- Inside the overlay_clips directory, include one or more ..._clips.npy files of other characters. This will\n",
    "  be used generate data for the known character's model to differentiate from other characters.\n",
    "- Inside the working directory, create an empty subdirectory named 'output'\n",
    "\"\"\"\n",
    "\n",
    "import numpy as np\n",
    "import librosa\n",
    "import os\n",
    "from scipy.io.wavfile import write\n",
    "import pydub\n",
    "import random"
   ]
  },
  {
   "cell_type": "code",
   "execution_count": 32,
   "id": "9dca2934",
   "metadata": {},
   "outputs": [
    {
     "name": "stdout",
     "output_type": "stream",
     "text": [
      "For known character data: id10016_merged_cleaned.wav_clips.npy\n",
      "\n",
      "For other character data:\n",
      "\tid10130_merged_cleaned.wav_clips.npy\n",
      "\tid10168_merged_cleaned.wav_clips.npy\n",
      "\tid10484_merged_cleaned.wav_clips.npy\n"
     ]
    }
   ],
   "source": [
    "\"\"\"\n",
    "Specify script parameters\n",
    "\"\"\"\n",
    "# specify the working directory; note that directory notation must use '/' rather than '\\'\n",
    "wd = 'F:/ZaknafeinII_Backup_02-02-22/daea/training_data_generation/id16/'\n",
    "\n",
    "\n",
    "\n",
    "# this will store the known character's clips\n",
    "known_char_clips = None\n",
    "\n",
    "# this will store the clips for all other characters\n",
    "other_char_clips_array = []\n",
    "\n",
    "# navigate the specified working directory to determine known character and other character clips arrays\n",
    "wd_contents = os.listdir(wd)\n",
    "wd_overlays_contents = os.listdir(wd+'overlay_clips')\n",
    "\n",
    "for item in wd_contents:\n",
    "    if os.path.isfile(os.path.join(wd, item)):\n",
    "        print('For known character data: %s\\n' % (item))\n",
    "        \n",
    "        # load the known character's ...clips.npy file\n",
    "        with open(wd+item, 'rb') as f:\n",
    "            known_char_clips = np.load(f)\n",
    "            \n",
    "print('For other character data:')\n",
    "for item in wd_overlays_contents:\n",
    "    # load the current other character's ...clips.npy file\n",
    "        with open(wd+'overlay_clips/'+item, 'rb') as f:\n",
    "            other_char_clips_array.append(np.load(f))\n",
    "            \n",
    "        print('\\t%s' % (item))\n",
    "    \n",
    "            \n",
    "other_char_clips_array = np.array(other_char_clips_array)"
   ]
  },
  {
   "cell_type": "code",
   "execution_count": 33,
   "id": "e4646ffc",
   "metadata": {},
   "outputs": [
    {
     "name": "stdout",
     "output_type": "stream",
     "text": [
      "known_clips.shape: (1497, 88200)\n",
      "other_char_clips_array.shape: (3, 1497, 88200)\n"
     ]
    }
   ],
   "source": [
    "print('known_clips.shape:', known_clips.shape)\n",
    "print('other_char_clips_array.shape:', other_char_clips_array.shape)"
   ]
  },
  {
   "cell_type": "code",
   "execution_count": null,
   "id": "9b6a3ee3",
   "metadata": {},
   "outputs": [],
   "source": [
    "# we need to shuffle the indexing order for the known character clips\n",
    "random.shuffle(array)"
   ]
  },
  {
   "cell_type": "code",
   "execution_count": 62,
   "id": "5caa208f",
   "metadata": {},
   "outputs": [
    {
     "name": "stdout",
     "output_type": "stream",
     "text": [
      "(88200,)\n"
     ]
    }
   ],
   "source": [
    "to_overlay = [other_char_clips_array[0][0], other_char_clips_array[1][0]]\n",
    "test = sum(to_overlay)/len(to_overlay)\n",
    "print(test.shape)"
   ]
  },
  {
   "cell_type": "code",
   "execution_count": 63,
   "id": "184ab6d6",
   "metadata": {},
   "outputs": [],
   "source": [
    "# with open('F:/ZaknafeinII_Backup_02-02-22/daea/training_data_generation/id16/output/test_overlay.wav', 'wb') as f:\n",
    "#     np.save(f, test)\n",
    "loc = 'F:/ZaknafeinII_Backup_02-02-22/daea/training_data_generation/id16/output/test_overlay.wav'\n",
    "write(loc, 22050, test)"
   ]
  },
  {
   "cell_type": "code",
   "execution_count": 64,
   "id": "f4d3db85",
   "metadata": {},
   "outputs": [
    {
     "data": {
      "text/plain": [
       "<_io.BufferedRandom name='F:/ZaknafeinII_Backup_02-02-22/daea/training_data_generation/id16/output/test_overlay_normalized.wav'>"
      ]
     },
     "execution_count": 64,
     "metadata": {},
     "output_type": "execute_result"
    }
   ],
   "source": [
    "# # https://stackoverflow.com/questions/42492246/how-to-normalize-the-volume-of-an-audio-file-in-python\n"
   ]
  },
  {
   "cell_type": "code",
   "execution_count": null,
   "id": "9b9df880",
   "metadata": {},
   "outputs": [],
   "source": []
  }
 ],
 "metadata": {
  "kernelspec": {
   "display_name": "Python 3 (ipykernel)",
   "language": "python",
   "name": "python3"
  },
  "language_info": {
   "codemirror_mode": {
    "name": "ipython",
    "version": 3
   },
   "file_extension": ".py",
   "mimetype": "text/x-python",
   "name": "python",
   "nbconvert_exporter": "python",
   "pygments_lexer": "ipython3",
   "version": "3.9.7"
  }
 },
 "nbformat": 4,
 "nbformat_minor": 5
}
