{
 "cells": [
  {
   "cell_type": "code",
   "execution_count": 1,
   "id": "856cfbc4",
   "metadata": {},
   "outputs": [],
   "source": [
    "import numpy as np\n",
    "import pickle\n",
    "import matplotlib.pyplot as plt\n",
    "import math\n",
    "import cmath\n",
    "import sys\n",
    "import IPython.display as ipd\n",
    "\n",
    "from sklearn import preprocessing\n",
    "from sklearn.datasets import make_regression\n",
    "from keras.callbacks import ModelCheckpoint\n",
    "from keras.models import Sequential\n",
    "from keras.layers import Dense, Activation, Flatten\n",
    "from scipy import signal"
   ]
  },
  {
   "cell_type": "code",
   "execution_count": 2,
   "id": "d49fd434",
   "metadata": {},
   "outputs": [
    {
     "name": "stdout",
     "output_type": "stream",
     "text": [
      "train_input is of shape (1048, 129, 691)\n",
      "val_input is of shape (225, 129, 691)\n",
      "test_input is of shape (224, 129, 691)\n",
      "train_targets is of shape (1048, 129, 691)\n",
      "val_targets is of shape (225, 129, 691)\n",
      "test_targets is of shape (224, 129, 691)\n",
      "train_noise is of shape (1048, 129, 691)\n",
      "val_noise is of shape (225, 129, 691)\n",
      "test_noise is of shape (224, 129, 691)\n"
     ]
    }
   ],
   "source": [
    "\"\"\"\n",
    "Open the training data.\n",
    "\"\"\"\n",
    "training_data_filepath = 'F:/ZaknafeinII_Backup_02-02-22/daea/training_data_generation/id16/output/stft_training_data_dict.pickle'\n",
    "\n",
    "with open(training_data_filepath, 'rb') as f:\n",
    "    data_dict = pickle.load(f)\n",
    "    \n",
    "for key in data_dict:\n",
    "    print(key, 'is of shape', data_dict.get(key).shape)"
   ]
  },
  {
   "cell_type": "code",
   "execution_count": 3,
   "id": "4b52708f",
   "metadata": {},
   "outputs": [
    {
     "name": "stdout",
     "output_type": "stream",
     "text": [
      "train_input.shape: (1048, 129, 691)\n",
      "train_target.shape: (1048, 129, 691)\n",
      "train_input.shape: (1048, 691, 129)\n",
      "train_target.shape: (1048, 691, 129)\n",
      "train_input.shape: (1048, 1, 691, 129)\n",
      "train_target.shape: (1048, 1, 691, 129)\n",
      "train_input.shape: (1048, 1, 690, 129)\n",
      "train_target.shape: (1048, 1, 690, 129)\n"
     ]
    }
   ],
   "source": [
    "\"\"\"\n",
    "We need to set up the train array, \"Sy\", and the target array, \"R\".\n",
    "\"\"\"\n",
    "train_input = data_dict.get('train_input')\n",
    "stft_clean = data_dict.get('train_targets')\n",
    "stft_noise = data_dict.get('train_noise')\n",
    "\n",
    "# R\n",
    "train_target = []\n",
    "\n",
    "for index in range(0, len(train_input)):\n",
    "    Px = np.square(stft_clean[index])\n",
    "    Pn = np.square(stft_noise[index])\n",
    "    R = Px / sum([Px, Pn])\n",
    "    \n",
    "    train_target.append(R)\n",
    "    \n",
    "train_target = np.array(train_target)\n",
    "\n",
    "print('train_input.shape:', train_input.shape)\n",
    "print('train_target.shape:', train_target.shape)\n",
    "\n",
    "train_input = np.swapaxes(train_input, 1, 2)\n",
    "train_target = np.swapaxes(train_target, 1, 2)\n",
    "\n",
    "print('train_input.shape:', train_input.shape)\n",
    "print('train_target.shape:', train_target.shape)\n",
    "\n",
    "# train_input = train_input.reshape(train_input.shape[0]*train_input.shape[1], train_input.shape[2])\n",
    "# train_target = train_target.reshape(train_target.shape[0]*train_target.shape[1], train_target.shape[2])\n",
    "\n",
    "# print('train_input.shape:', train_input.shape)\n",
    "# print('train_target.shape:', train_target.shape)\n",
    "\n",
    "\n",
    "\n",
    "train_input = train_input.reshape(1048, 1, 691, 129)\n",
    "train_target = train_target.reshape(1048, 1, 691, 129)\n",
    "\n",
    "print('train_input.shape:', train_input.shape)\n",
    "print('train_target.shape:', train_target.shape)\n",
    "\n",
    "train_input = train_input[:, :, 0:690, :]\n",
    "train_target = train_target[:, :, 0:690, :]\n",
    "\n",
    "print('train_input.shape:', train_input.shape)\n",
    "print('train_target.shape:', train_target.shape)"
   ]
  },
  {
   "cell_type": "code",
   "execution_count": 4,
   "id": "e057bfd8",
   "metadata": {},
   "outputs": [],
   "source": [
    "# fs = 22050\n",
    "# input_ = train_input[0][:,0:100]\n",
    "# _, xrec = signal.istft(input_, fs)\n",
    "# print('input dim:', input_.shape)\n",
    "# print('output dim:', xrec.shape)\n",
    "# ipd.Audio(xrec, rate=fs)\n",
    "\n",
    "# print()\n",
    "# input_ = train_input[0][:,0]\n",
    "# _, xrec = signal.istft(input_, fs)\n",
    "# print('input dim:', input_.shape)\n",
    "# print('output dim:', xrec.shape)\n",
    "# ipd.Audio(xrec, rate=fs)\n",
    "\n",
    "# counter = 0\n",
    "# for i in train_input[0]:\n",
    "#     if counter < 1:\n",
    "#         print(len(i))\n",
    "#         counter = counter + 1\n",
    "#     else:\n",
    "#         break"
   ]
  },
  {
   "cell_type": "code",
   "execution_count": 5,
   "id": "52de327f",
   "metadata": {},
   "outputs": [
    {
     "name": "stdout",
     "output_type": "stream",
     "text": [
      "Model: \"sequential\"\n",
      "_________________________________________________________________\n",
      " Layer (type)                Output Shape              Param #   \n",
      "=================================================================\n",
      " conv2d (Conv2D)             (None, 1, 690, 64)        74368     \n",
      "                                                                 \n",
      " conv2d_1 (Conv2D)           (None, 1, 690, 128)       73856     \n",
      "                                                                 \n",
      " conv2d_2 (Conv2D)           (None, 1, 690, 256)       295168    \n",
      "                                                                 \n",
      " conv2d_3 (Conv2D)           (None, 1, 690, 128)       32896     \n",
      "                                                                 \n",
      " dense (Dense)               (None, 1, 690, 129)       16641     \n",
      "                                                                 \n",
      "=================================================================\n",
      "Total params: 492,929\n",
      "Trainable params: 492,929\n",
      "Non-trainable params: 0\n",
      "_________________________________________________________________\n"
     ]
    }
   ],
   "source": [
    "# # do we need the last axis of the Zxx? we should see if it can be reconstructed without it\n",
    "from keras.layers import Dense, Dropout, Activation, Flatten, MaxPooling1D, Conv1D, LSTM, Conv2D\n",
    "\n",
    "\n",
    "# NN_model = Sequential()\n",
    "\n",
    "# # The Input Layer :\n",
    "# NN_model.add(Dense(129, kernel_initializer='normal', input_dim = 129, activation='relu'))\n",
    "\n",
    "# # The Hidden Layers :\n",
    "# NN_model.add(Dense(172, kernel_initializer='normal', activation='relu'))\n",
    "# NN_model.add(Dense(129, kernel_initializer='normal', activation='relu'))\n",
    "\n",
    "# # The Output Layer :\n",
    "# # changing the output dimensions from 1 to 64\n",
    "# NN_model.add(Dense(129, kernel_initializer='normal', activation='linear'))\n",
    "\n",
    "# # Compile the network :\n",
    "# NN_model.compile(loss='mean_absolute_error', optimizer='adam', metrics=['mean_absolute_error'])\n",
    "# NN_model.summary()\n",
    "\n",
    "model = Sequential()\n",
    "\n",
    "# https://stackoverflow.com/questions/61816859/how-to-create-keras-conv2d-layer-on-grayscale-image-set\n",
    "# model.add(Conv1D(filters=258, kernel_size=5, padding='same', activation='relu', input_shape=(None, 129)))\n",
    "model.add(Conv2D(64, (3,3), activation=\"relu\", padding='same', input_shape=(1, 690, 129)))\n",
    "model.add(Conv2D(128, (3,3), activation='relu', padding='same'))\n",
    "# model.add(Conv2D(128, (3,3), activation='relu', padding='same', strides=2))\n",
    "model.add(Conv2D(256, (3,3), activation='relu', padding='same'))\n",
    "# model.add(Conv2D(256, (3,3), activation='relu', padding='same', strides=2))\n",
    "model.add(Conv2D(128, (1, 1), activation='relu', padding='same'))\n",
    "\n",
    "\n",
    "# model.add(MaxPooling1D(pool_size=4))\n",
    "\n",
    "# model.add(LSTM(64))\n",
    "\n",
    "model.add(Dense(129, activation='linear'))\n",
    "\n",
    "model.compile(optimizer='adam', loss='mean_squared_error')#, metrics=[metric])\n",
    "\n",
    "model.summary()\n"
   ]
  },
  {
   "cell_type": "code",
   "execution_count": 6,
   "id": "9b48698a",
   "metadata": {},
   "outputs": [
    {
     "name": "stdout",
     "output_type": "stream",
     "text": [
      "Num GPUs Available:  0\n",
      "Epoch 1/64\n",
      "53/53 [==============================] - 15s 269ms/step - loss: 0.5519 - val_loss: 0.3913\n",
      "Epoch 2/64\n",
      "53/53 [==============================] - ETA: 0s - loss: 0.4127"
     ]
    },
    {
     "ename": "ResourceExhaustedError",
     "evalue": "Graph execution error:\n\nDetected at node 'sequential/Cast' defined at (most recent call last):\n    File \"C:\\Users\\ZaknafeinII\\anaconda3\\lib\\runpy.py\", line 197, in _run_module_as_main\n      return _run_code(code, main_globals, None,\n    File \"C:\\Users\\ZaknafeinII\\anaconda3\\lib\\runpy.py\", line 87, in _run_code\n      exec(code, run_globals)\n    File \"C:\\Users\\ZaknafeinII\\anaconda3\\lib\\site-packages\\ipykernel_launcher.py\", line 16, in <module>\n      app.launch_new_instance()\n    File \"C:\\Users\\ZaknafeinII\\anaconda3\\lib\\site-packages\\traitlets\\config\\application.py\", line 846, in launch_instance\n      app.start()\n    File \"C:\\Users\\ZaknafeinII\\anaconda3\\lib\\site-packages\\ipykernel\\kernelapp.py\", line 677, in start\n      self.io_loop.start()\n    File \"C:\\Users\\ZaknafeinII\\anaconda3\\lib\\site-packages\\tornado\\platform\\asyncio.py\", line 199, in start\n      self.asyncio_loop.run_forever()\n    File \"C:\\Users\\ZaknafeinII\\anaconda3\\lib\\asyncio\\base_events.py\", line 596, in run_forever\n      self._run_once()\n    File \"C:\\Users\\ZaknafeinII\\anaconda3\\lib\\asyncio\\base_events.py\", line 1890, in _run_once\n      handle._run()\n    File \"C:\\Users\\ZaknafeinII\\anaconda3\\lib\\asyncio\\events.py\", line 80, in _run\n      self._context.run(self._callback, *self._args)\n    File \"C:\\Users\\ZaknafeinII\\anaconda3\\lib\\site-packages\\ipykernel\\kernelbase.py\", line 457, in dispatch_queue\n      await self.process_one()\n    File \"C:\\Users\\ZaknafeinII\\anaconda3\\lib\\site-packages\\ipykernel\\kernelbase.py\", line 446, in process_one\n      await dispatch(*args)\n    File \"C:\\Users\\ZaknafeinII\\anaconda3\\lib\\site-packages\\ipykernel\\kernelbase.py\", line 353, in dispatch_shell\n      await result\n    File \"C:\\Users\\ZaknafeinII\\anaconda3\\lib\\site-packages\\ipykernel\\kernelbase.py\", line 648, in execute_request\n      reply_content = await reply_content\n    File \"C:\\Users\\ZaknafeinII\\anaconda3\\lib\\site-packages\\ipykernel\\ipkernel.py\", line 353, in do_execute\n      res = shell.run_cell(code, store_history=store_history, silent=silent)\n    File \"C:\\Users\\ZaknafeinII\\anaconda3\\lib\\site-packages\\ipykernel\\zmqshell.py\", line 533, in run_cell\n      return super(ZMQInteractiveShell, self).run_cell(*args, **kwargs)\n    File \"C:\\Users\\ZaknafeinII\\anaconda3\\lib\\site-packages\\IPython\\core\\interactiveshell.py\", line 2901, in run_cell\n      result = self._run_cell(\n    File \"C:\\Users\\ZaknafeinII\\anaconda3\\lib\\site-packages\\IPython\\core\\interactiveshell.py\", line 2947, in _run_cell\n      return runner(coro)\n    File \"C:\\Users\\ZaknafeinII\\anaconda3\\lib\\site-packages\\IPython\\core\\async_helpers.py\", line 68, in _pseudo_sync_runner\n      coro.send(None)\n    File \"C:\\Users\\ZaknafeinII\\anaconda3\\lib\\site-packages\\IPython\\core\\interactiveshell.py\", line 3172, in run_cell_async\n      has_raised = await self.run_ast_nodes(code_ast.body, cell_name,\n    File \"C:\\Users\\ZaknafeinII\\anaconda3\\lib\\site-packages\\IPython\\core\\interactiveshell.py\", line 3364, in run_ast_nodes\n      if (await self.run_code(code, result,  async_=asy)):\n    File \"C:\\Users\\ZaknafeinII\\anaconda3\\lib\\site-packages\\IPython\\core\\interactiveshell.py\", line 3444, in run_code\n      exec(code_obj, self.user_global_ns, self.user_ns)\n    File \"C:\\Users\\ZAKNAF~1\\AppData\\Local\\Temp/ipykernel_14676/3373738527.py\", line 35, in <module>\n      model.fit(\n    File \"C:\\Users\\ZaknafeinII\\anaconda3\\lib\\site-packages\\keras\\utils\\traceback_utils.py\", line 64, in error_handler\n      return fn(*args, **kwargs)\n    File \"C:\\Users\\ZaknafeinII\\anaconda3\\lib\\site-packages\\keras\\engine\\training.py\", line 1420, in fit\n      val_logs = self.evaluate(\n    File \"C:\\Users\\ZaknafeinII\\anaconda3\\lib\\site-packages\\keras\\utils\\traceback_utils.py\", line 64, in error_handler\n      return fn(*args, **kwargs)\n    File \"C:\\Users\\ZaknafeinII\\anaconda3\\lib\\site-packages\\keras\\engine\\training.py\", line 1716, in evaluate\n      tmp_logs = self.test_function(iterator)\n    File \"C:\\Users\\ZaknafeinII\\anaconda3\\lib\\site-packages\\keras\\engine\\training.py\", line 1525, in test_function\n      return step_function(self, iterator)\n    File \"C:\\Users\\ZaknafeinII\\anaconda3\\lib\\site-packages\\keras\\engine\\training.py\", line 1514, in step_function\n      outputs = model.distribute_strategy.run(run_step, args=(data,))\n    File \"C:\\Users\\ZaknafeinII\\anaconda3\\lib\\site-packages\\keras\\engine\\training.py\", line 1507, in run_step\n      outputs = model.test_step(data)\n    File \"C:\\Users\\ZaknafeinII\\anaconda3\\lib\\site-packages\\keras\\engine\\training.py\", line 1471, in test_step\n      y_pred = self(x, training=False)\n    File \"C:\\Users\\ZaknafeinII\\anaconda3\\lib\\site-packages\\keras\\utils\\traceback_utils.py\", line 64, in error_handler\n      return fn(*args, **kwargs)\n    File \"C:\\Users\\ZaknafeinII\\anaconda3\\lib\\site-packages\\keras\\engine\\base_layer.py\", line 1096, in __call__\n      outputs = call_fn(inputs, *args, **kwargs)\n    File \"C:\\Users\\ZaknafeinII\\anaconda3\\lib\\site-packages\\keras\\utils\\traceback_utils.py\", line 92, in error_handler\n      return fn(*args, **kwargs)\n    File \"C:\\Users\\ZaknafeinII\\anaconda3\\lib\\site-packages\\keras\\engine\\sequential.py\", line 374, in call\n      return super(Sequential, self).call(inputs, training=training, mask=mask)\n    File \"C:\\Users\\ZaknafeinII\\anaconda3\\lib\\site-packages\\keras\\engine\\functional.py\", line 451, in call\n      return self._run_internal_graph(\n    File \"C:\\Users\\ZaknafeinII\\anaconda3\\lib\\site-packages\\keras\\engine\\functional.py\", line 571, in _run_internal_graph\n      y = self._conform_to_reference_input(y, ref_input=x)\n    File \"C:\\Users\\ZaknafeinII\\anaconda3\\lib\\site-packages\\keras\\engine\\functional.py\", line 671, in _conform_to_reference_input\n      tensor = tf.cast(tensor, dtype=ref_input.dtype)\nNode: 'sequential/Cast'\nOOM when allocating tensor with shape[16,1,690,129] and type float on /job:localhost/replica:0/task:0/device:CPU:0 by allocator cpu\n\t [[{{node sequential/Cast}}]]\nHint: If you want to see a list of allocated tensors when OOM happens, add report_tensor_allocations_upon_oom to RunOptions for current allocation info. This isn't available when running in Eager mode.\n [Op:__inference_test_function_1243]",
     "output_type": "error",
     "traceback": [
      "\u001b[1;31m---------------------------------------------------------------------------\u001b[0m",
      "\u001b[1;31mResourceExhaustedError\u001b[0m                    Traceback (most recent call last)",
      "\u001b[1;32mC:\\Users\\ZAKNAF~1\\AppData\\Local\\Temp/ipykernel_14676/3373738527.py\u001b[0m in \u001b[0;36m<module>\u001b[1;34m\u001b[0m\n\u001b[0;32m     33\u001b[0m \u001b[1;31m# early_stop = EarlyStopping(monitor='val_loss', min_delta=0, patience=20, verbose=1, mode='auto')\u001b[0m\u001b[1;33m\u001b[0m\u001b[1;33m\u001b[0m\u001b[0m\n\u001b[0;32m     34\u001b[0m \u001b[1;33m\u001b[0m\u001b[0m\n\u001b[1;32m---> 35\u001b[1;33m model.fit(\n\u001b[0m\u001b[0;32m     36\u001b[0m           \u001b[0mtrain_input\u001b[0m\u001b[1;33m,\u001b[0m\u001b[1;33m\u001b[0m\u001b[1;33m\u001b[0m\u001b[0m\n\u001b[0;32m     37\u001b[0m           \u001b[0mtrain_target\u001b[0m\u001b[1;33m,\u001b[0m\u001b[1;33m\u001b[0m\u001b[1;33m\u001b[0m\u001b[0m\n",
      "\u001b[1;32m~\\anaconda3\\lib\\site-packages\\keras\\utils\\traceback_utils.py\u001b[0m in \u001b[0;36merror_handler\u001b[1;34m(*args, **kwargs)\u001b[0m\n\u001b[0;32m     65\u001b[0m     \u001b[1;32mexcept\u001b[0m \u001b[0mException\u001b[0m \u001b[1;32mas\u001b[0m \u001b[0me\u001b[0m\u001b[1;33m:\u001b[0m  \u001b[1;31m# pylint: disable=broad-except\u001b[0m\u001b[1;33m\u001b[0m\u001b[1;33m\u001b[0m\u001b[0m\n\u001b[0;32m     66\u001b[0m       \u001b[0mfiltered_tb\u001b[0m \u001b[1;33m=\u001b[0m \u001b[0m_process_traceback_frames\u001b[0m\u001b[1;33m(\u001b[0m\u001b[0me\u001b[0m\u001b[1;33m.\u001b[0m\u001b[0m__traceback__\u001b[0m\u001b[1;33m)\u001b[0m\u001b[1;33m\u001b[0m\u001b[1;33m\u001b[0m\u001b[0m\n\u001b[1;32m---> 67\u001b[1;33m       \u001b[1;32mraise\u001b[0m \u001b[0me\u001b[0m\u001b[1;33m.\u001b[0m\u001b[0mwith_traceback\u001b[0m\u001b[1;33m(\u001b[0m\u001b[0mfiltered_tb\u001b[0m\u001b[1;33m)\u001b[0m \u001b[1;32mfrom\u001b[0m \u001b[1;32mNone\u001b[0m\u001b[1;33m\u001b[0m\u001b[1;33m\u001b[0m\u001b[0m\n\u001b[0m\u001b[0;32m     68\u001b[0m     \u001b[1;32mfinally\u001b[0m\u001b[1;33m:\u001b[0m\u001b[1;33m\u001b[0m\u001b[1;33m\u001b[0m\u001b[0m\n\u001b[0;32m     69\u001b[0m       \u001b[1;32mdel\u001b[0m \u001b[0mfiltered_tb\u001b[0m\u001b[1;33m\u001b[0m\u001b[1;33m\u001b[0m\u001b[0m\n",
      "\u001b[1;32m~\\AppData\\Roaming\\Python\\Python39\\site-packages\\tensorflow\\python\\eager\\execute.py\u001b[0m in \u001b[0;36mquick_execute\u001b[1;34m(op_name, num_outputs, inputs, attrs, ctx, name)\u001b[0m\n\u001b[0;32m     52\u001b[0m   \u001b[1;32mtry\u001b[0m\u001b[1;33m:\u001b[0m\u001b[1;33m\u001b[0m\u001b[1;33m\u001b[0m\u001b[0m\n\u001b[0;32m     53\u001b[0m     \u001b[0mctx\u001b[0m\u001b[1;33m.\u001b[0m\u001b[0mensure_initialized\u001b[0m\u001b[1;33m(\u001b[0m\u001b[1;33m)\u001b[0m\u001b[1;33m\u001b[0m\u001b[1;33m\u001b[0m\u001b[0m\n\u001b[1;32m---> 54\u001b[1;33m     tensors = pywrap_tfe.TFE_Py_Execute(ctx._handle, device_name, op_name,\n\u001b[0m\u001b[0;32m     55\u001b[0m                                         inputs, attrs, num_outputs)\n\u001b[0;32m     56\u001b[0m   \u001b[1;32mexcept\u001b[0m \u001b[0mcore\u001b[0m\u001b[1;33m.\u001b[0m\u001b[0m_NotOkStatusException\u001b[0m \u001b[1;32mas\u001b[0m \u001b[0me\u001b[0m\u001b[1;33m:\u001b[0m\u001b[1;33m\u001b[0m\u001b[1;33m\u001b[0m\u001b[0m\n",
      "\u001b[1;31mResourceExhaustedError\u001b[0m: Graph execution error:\n\nDetected at node 'sequential/Cast' defined at (most recent call last):\n    File \"C:\\Users\\ZaknafeinII\\anaconda3\\lib\\runpy.py\", line 197, in _run_module_as_main\n      return _run_code(code, main_globals, None,\n    File \"C:\\Users\\ZaknafeinII\\anaconda3\\lib\\runpy.py\", line 87, in _run_code\n      exec(code, run_globals)\n    File \"C:\\Users\\ZaknafeinII\\anaconda3\\lib\\site-packages\\ipykernel_launcher.py\", line 16, in <module>\n      app.launch_new_instance()\n    File \"C:\\Users\\ZaknafeinII\\anaconda3\\lib\\site-packages\\traitlets\\config\\application.py\", line 846, in launch_instance\n      app.start()\n    File \"C:\\Users\\ZaknafeinII\\anaconda3\\lib\\site-packages\\ipykernel\\kernelapp.py\", line 677, in start\n      self.io_loop.start()\n    File \"C:\\Users\\ZaknafeinII\\anaconda3\\lib\\site-packages\\tornado\\platform\\asyncio.py\", line 199, in start\n      self.asyncio_loop.run_forever()\n    File \"C:\\Users\\ZaknafeinII\\anaconda3\\lib\\asyncio\\base_events.py\", line 596, in run_forever\n      self._run_once()\n    File \"C:\\Users\\ZaknafeinII\\anaconda3\\lib\\asyncio\\base_events.py\", line 1890, in _run_once\n      handle._run()\n    File \"C:\\Users\\ZaknafeinII\\anaconda3\\lib\\asyncio\\events.py\", line 80, in _run\n      self._context.run(self._callback, *self._args)\n    File \"C:\\Users\\ZaknafeinII\\anaconda3\\lib\\site-packages\\ipykernel\\kernelbase.py\", line 457, in dispatch_queue\n      await self.process_one()\n    File \"C:\\Users\\ZaknafeinII\\anaconda3\\lib\\site-packages\\ipykernel\\kernelbase.py\", line 446, in process_one\n      await dispatch(*args)\n    File \"C:\\Users\\ZaknafeinII\\anaconda3\\lib\\site-packages\\ipykernel\\kernelbase.py\", line 353, in dispatch_shell\n      await result\n    File \"C:\\Users\\ZaknafeinII\\anaconda3\\lib\\site-packages\\ipykernel\\kernelbase.py\", line 648, in execute_request\n      reply_content = await reply_content\n    File \"C:\\Users\\ZaknafeinII\\anaconda3\\lib\\site-packages\\ipykernel\\ipkernel.py\", line 353, in do_execute\n      res = shell.run_cell(code, store_history=store_history, silent=silent)\n    File \"C:\\Users\\ZaknafeinII\\anaconda3\\lib\\site-packages\\ipykernel\\zmqshell.py\", line 533, in run_cell\n      return super(ZMQInteractiveShell, self).run_cell(*args, **kwargs)\n    File \"C:\\Users\\ZaknafeinII\\anaconda3\\lib\\site-packages\\IPython\\core\\interactiveshell.py\", line 2901, in run_cell\n      result = self._run_cell(\n    File \"C:\\Users\\ZaknafeinII\\anaconda3\\lib\\site-packages\\IPython\\core\\interactiveshell.py\", line 2947, in _run_cell\n      return runner(coro)\n    File \"C:\\Users\\ZaknafeinII\\anaconda3\\lib\\site-packages\\IPython\\core\\async_helpers.py\", line 68, in _pseudo_sync_runner\n      coro.send(None)\n    File \"C:\\Users\\ZaknafeinII\\anaconda3\\lib\\site-packages\\IPython\\core\\interactiveshell.py\", line 3172, in run_cell_async\n      has_raised = await self.run_ast_nodes(code_ast.body, cell_name,\n    File \"C:\\Users\\ZaknafeinII\\anaconda3\\lib\\site-packages\\IPython\\core\\interactiveshell.py\", line 3364, in run_ast_nodes\n      if (await self.run_code(code, result,  async_=asy)):\n    File \"C:\\Users\\ZaknafeinII\\anaconda3\\lib\\site-packages\\IPython\\core\\interactiveshell.py\", line 3444, in run_code\n      exec(code_obj, self.user_global_ns, self.user_ns)\n    File \"C:\\Users\\ZAKNAF~1\\AppData\\Local\\Temp/ipykernel_14676/3373738527.py\", line 35, in <module>\n      model.fit(\n    File \"C:\\Users\\ZaknafeinII\\anaconda3\\lib\\site-packages\\keras\\utils\\traceback_utils.py\", line 64, in error_handler\n      return fn(*args, **kwargs)\n    File \"C:\\Users\\ZaknafeinII\\anaconda3\\lib\\site-packages\\keras\\engine\\training.py\", line 1420, in fit\n      val_logs = self.evaluate(\n    File \"C:\\Users\\ZaknafeinII\\anaconda3\\lib\\site-packages\\keras\\utils\\traceback_utils.py\", line 64, in error_handler\n      return fn(*args, **kwargs)\n    File \"C:\\Users\\ZaknafeinII\\anaconda3\\lib\\site-packages\\keras\\engine\\training.py\", line 1716, in evaluate\n      tmp_logs = self.test_function(iterator)\n    File \"C:\\Users\\ZaknafeinII\\anaconda3\\lib\\site-packages\\keras\\engine\\training.py\", line 1525, in test_function\n      return step_function(self, iterator)\n    File \"C:\\Users\\ZaknafeinII\\anaconda3\\lib\\site-packages\\keras\\engine\\training.py\", line 1514, in step_function\n      outputs = model.distribute_strategy.run(run_step, args=(data,))\n    File \"C:\\Users\\ZaknafeinII\\anaconda3\\lib\\site-packages\\keras\\engine\\training.py\", line 1507, in run_step\n      outputs = model.test_step(data)\n    File \"C:\\Users\\ZaknafeinII\\anaconda3\\lib\\site-packages\\keras\\engine\\training.py\", line 1471, in test_step\n      y_pred = self(x, training=False)\n    File \"C:\\Users\\ZaknafeinII\\anaconda3\\lib\\site-packages\\keras\\utils\\traceback_utils.py\", line 64, in error_handler\n      return fn(*args, **kwargs)\n    File \"C:\\Users\\ZaknafeinII\\anaconda3\\lib\\site-packages\\keras\\engine\\base_layer.py\", line 1096, in __call__\n      outputs = call_fn(inputs, *args, **kwargs)\n    File \"C:\\Users\\ZaknafeinII\\anaconda3\\lib\\site-packages\\keras\\utils\\traceback_utils.py\", line 92, in error_handler\n      return fn(*args, **kwargs)\n    File \"C:\\Users\\ZaknafeinII\\anaconda3\\lib\\site-packages\\keras\\engine\\sequential.py\", line 374, in call\n      return super(Sequential, self).call(inputs, training=training, mask=mask)\n    File \"C:\\Users\\ZaknafeinII\\anaconda3\\lib\\site-packages\\keras\\engine\\functional.py\", line 451, in call\n      return self._run_internal_graph(\n    File \"C:\\Users\\ZaknafeinII\\anaconda3\\lib\\site-packages\\keras\\engine\\functional.py\", line 571, in _run_internal_graph\n      y = self._conform_to_reference_input(y, ref_input=x)\n    File \"C:\\Users\\ZaknafeinII\\anaconda3\\lib\\site-packages\\keras\\engine\\functional.py\", line 671, in _conform_to_reference_input\n      tensor = tf.cast(tensor, dtype=ref_input.dtype)\nNode: 'sequential/Cast'\nOOM when allocating tensor with shape[16,1,690,129] and type float on /job:localhost/replica:0/task:0/device:CPU:0 by allocator cpu\n\t [[{{node sequential/Cast}}]]\nHint: If you want to see a list of allocated tensors when OOM happens, add report_tensor_allocations_upon_oom to RunOptions for current allocation info. This isn't available when running in Eager mode.\n [Op:__inference_test_function_1243]"
     ]
    }
   ],
   "source": [
    "\"\"\"\n",
    "Only save the best form of the model throughout the training process.\n",
    "https://towardsdatascience.com/deep-neural-networks-for-regression-problems-81321897ca33\n",
    "\n",
    "Notes:\n",
    "- look into pruning during training\n",
    "- explore this link: https://towardsdatascience.com/how-to-build-a-neural-network-for-voice-classification-5e2810fe1efa\n",
    "  - has dropout layers\n",
    "  - has graph to show performance over time during training\n",
    "  - has early stopping\n",
    "  - has layers to study\n",
    "- train with GPU somehow\n",
    "- better data preprocessing\n",
    "- From librosa concerning MFCC generation: \"If multi-channel audio input y is provided, the MFCC calculation \n",
    "  will depend on the peak loudness (in decibels) across all channels. The result may differ from independent \n",
    "  MFCC calculation of each channel.\"\n",
    "\"\"\"\n",
    "from keras.callbacks import EarlyStopping\n",
    "import tensorflow as tf\n",
    "from tensorflow.python.keras import backend as K\n",
    "\n",
    "# adjust values to your needs\n",
    "config = tf.compat.v1.ConfigProto( device_count = {'GPU': 1 , 'CPU': 8} )\n",
    "sess = tf.compat.v1.Session(config=config) \n",
    "K.set_session(sess)\n",
    "print(\"Num GPUs Available: \", len(tf.config.list_physical_devices('GPU')))\n",
    "\n",
    "\n",
    "# checkpoint_name = 'Weights-{epoch:03d}--{val_loss:.5f}.hdf5' \n",
    "# checkpoint = ModelCheckpoint(checkpoint_name, monitor='val_loss', verbose = 1, save_best_only = True, mode ='auto')\n",
    "# callbacks_list = [checkpoint]\n",
    "\n",
    "# early_stop = EarlyStopping(monitor='val_loss', min_delta=0, patience=20, verbose=1, mode='auto')\n",
    "\n",
    "model.fit(\n",
    "          train_input, \n",
    "          train_target, \n",
    "          epochs=64, \n",
    "          batch_size=16, \n",
    "          validation_split = 0.2, \n",
    "#           callbacks=callbacks_list, \n",
    "          shuffle=True\n",
    "          )"
   ]
  },
  {
   "cell_type": "code",
   "execution_count": null,
   "id": "20a746ca",
   "metadata": {},
   "outputs": [],
   "source": [
    "test_input = data_dict.get('test_input')\n",
    "# test_target = data_dict.get('test_targets')\n",
    "test_input = np.swapaxes(test_input, 1, 2)\n",
    "# test_target = np.swapaxes(test_target, 1, 2)\n",
    "# test_input = test_input.reshape(test_input.shape[0]*test_input.shape[1], test_input.shape[2])\n",
    "# test_target = test_target.reshape(test_target.shape[0]*test_target.shape[1], test_target.shape[2])\n",
    "# print('test_input.shape:', test_input[0].shape)\n",
    "# print('test_target.shape:', test_target.shape)\n"
   ]
  },
  {
   "cell_type": "code",
   "execution_count": null,
   "id": "8cdbdd1b",
   "metadata": {},
   "outputs": [],
   "source": [
    "print(test_input[0:2].shape)\n",
    "predictions = np.array(model.predict(test_input[0:2]))\n",
    "print(predictions.shape)\n",
    "# y = imask_test[0]\n",
    "# yhat = NN_model.predict(x)"
   ]
  },
  {
   "cell_type": "code",
   "execution_count": null,
   "id": "bf2935b4",
   "metadata": {},
   "outputs": [],
   "source": [
    "print(predictions.shape)"
   ]
  },
  {
   "cell_type": "code",
   "execution_count": null,
   "id": "66e6e703",
   "metadata": {},
   "outputs": [],
   "source": [
    "xhat = predictions[1] * test_input[1]"
   ]
  },
  {
   "cell_type": "code",
   "execution_count": null,
   "id": "a341b59d",
   "metadata": {},
   "outputs": [],
   "source": [
    "_, xrec = signal.istft(xhat, 22050)\n",
    "print(xrec.shape)\n",
    "ipd.Audio(xrec, rate=22050)"
   ]
  },
  {
   "cell_type": "code",
   "execution_count": null,
   "id": "39212489",
   "metadata": {},
   "outputs": [],
   "source": []
  }
 ],
 "metadata": {
  "kernelspec": {
   "display_name": "Python 3 (ipykernel)",
   "language": "python",
   "name": "python3"
  },
  "language_info": {
   "codemirror_mode": {
    "name": "ipython",
    "version": 3
   },
   "file_extension": ".py",
   "mimetype": "text/x-python",
   "name": "python",
   "nbconvert_exporter": "python",
   "pygments_lexer": "ipython3",
   "version": "3.9.7"
  }
 },
 "nbformat": 4,
 "nbformat_minor": 5
}
