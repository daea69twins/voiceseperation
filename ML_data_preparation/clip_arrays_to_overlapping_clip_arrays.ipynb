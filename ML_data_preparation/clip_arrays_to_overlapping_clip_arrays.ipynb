{
 "cells": [
  {
   "cell_type": "code",
   "execution_count": 2,
   "id": "b874b2f5",
   "metadata": {},
   "outputs": [
    {
     "name": "stderr",
     "output_type": "stream",
     "text": [
      "C:\\Users\\ZaknafeinII\\anaconda3\\lib\\site-packages\\pydub\\utils.py:170: RuntimeWarning: Couldn't find ffmpeg or avconv - defaulting to ffmpeg, but may not work\n",
      "  warn(\"Couldn't find ffmpeg or avconv - defaulting to ffmpeg, but may not work\", RuntimeWarning)\n"
     ]
    }
   ],
   "source": [
    "\"\"\"\n",
    "\n",
    "\n",
    "\n",
    "To use this script, make the following preparations:\n",
    "- Create a working directory\n",
    "- Inside the working directory, have a single ..._clips.npy file. This file will correspond to which\n",
    "  character's model the generated data will be used to train.\n",
    "- Inside the working directory, have a single folder named 'overlay_clips'\n",
    "- Inside the overlay_clips directory, include one or more ..._clips.npy files of other characters. This will\n",
    "  be used generate data for the known character's model to differentiate from other characters.\n",
    "- Inside the working directory, create an empty subdirectory named 'output'\n",
    "\"\"\"\n",
    "\n",
    "import numpy as np\n",
    "import librosa\n",
    "import os\n",
    "from scipy.io.wavfile import write\n",
    "import pydub\n",
    "import random"
   ]
  },
  {
   "cell_type": "code",
   "execution_count": null,
   "id": "a77966de",
   "metadata": {},
   "outputs": [],
   "source": [
    "\"\"\"\n",
    "Specify script parameters\n",
    "\"\"\"\n",
    "# specify the working directory; note that directory notation must use '/' rather than '\\'\n",
    "wd = 'F:/ZaknafeinII_Backup_02-02-22/daea/training_data_generation/id16/'\n",
    "\n",
    "# Initially using 70%/15%/15% proportions for training, validation, and testing\n",
    "train_proportion = 0.7\n",
    "val_proportion = 0.15"
   ]
  },
  {
   "cell_type": "code",
   "execution_count": 11,
   "id": "9dca2934",
   "metadata": {},
   "outputs": [
    {
     "name": "stdout",
     "output_type": "stream",
     "text": [
      "For known character data: id10016_merged_cleaned.wav_clips.npy\n",
      "\n",
      "For other character data:\n",
      "\tid10130_merged_cleaned.wav_clips.npy\n",
      "\tid10168_merged_cleaned.wav_clips.npy\n",
      "\tid10484_merged_cleaned.wav_clips.npy\n"
     ]
    }
   ],
   "source": [
    "# this will store the known character's clips\n",
    "known_char_clips = None\n",
    "\n",
    "# this will store the clips for all other characters\n",
    "other_char_clips_array = []\n",
    "\n",
    "# navigate the specified working directory to determine known character and other character clips arrays\n",
    "wd_contents = os.listdir(wd)\n",
    "wd_overlays_contents = os.listdir(wd+'overlay_clips')\n",
    "\n",
    "for item in wd_contents:\n",
    "    if os.path.isfile(os.path.join(wd, item)):\n",
    "        print('For known character data: %s\\n' % (item))\n",
    "        \n",
    "        # load the known character's ...clips.npy file\n",
    "        with open(wd+item, 'rb') as f:\n",
    "            known_char_clips = np.load(f)\n",
    "            \n",
    "print('For other character data:')\n",
    "for item in wd_overlays_contents:\n",
    "    # load the current other character's ...clips.npy file\n",
    "        with open(wd+'overlay_clips/'+item, 'rb') as f:\n",
    "            other_char_clips_array.append(np.load(f))\n",
    "            \n",
    "        print('\\t%s' % (item))\n",
    "    \n",
    "            \n",
    "other_char_clips_array = np.array(other_char_clips_array)"
   ]
  },
  {
   "cell_type": "code",
   "execution_count": 12,
   "id": "e4646ffc",
   "metadata": {},
   "outputs": [
    {
     "name": "stdout",
     "output_type": "stream",
     "text": [
      "known__char_clips.shape: (1497, 88200)\n",
      "other_char_clips_array.shape: (3, 1497, 88200)\n"
     ]
    }
   ],
   "source": [
    "print('known__char_clips.shape:', known_char_clips.shape)\n",
    "print('other_char_clips_array.shape:', other_char_clips_array.shape)"
   ]
  },
  {
   "cell_type": "code",
   "execution_count": 10,
   "id": "9b6a3ee3",
   "metadata": {},
   "outputs": [
    {
     "name": "stdout",
     "output_type": "stream",
     "text": [
      "[564, 499, 577, 1070, 199, 1310, 489, 939, 542, 864, 741, 7, 558, 906, 1063, 1344, 916, 811, 686, 1, 1381, 44, 79, 269, 813, 1199, 1249, 274, 107, 472, 430, 1055, 1415, 1304, 842, 966, 730, 881, 1354, 897, 1033, 885, 202, 890, 356, 87, 446, 963, 237, 571, 1148, 1368, 555, 1203, 338, 1008, 1013, 337, 1460, 654, 65, 902, 339, 1470, 922, 1389, 942, 1016, 185, 1191, 1256, 1473, 1151, 348, 796, 383, 670, 95, 1236, 1313, 766, 1141, 153, 493, 249, 187, 1491, 378, 979, 119, 1341, 1054, 146, 328, 26, 1006, 388, 1000, 1212, 624, 560, 49, 737, 736, 559, 1227, 364, 1061, 816, 1127, 1235, 93, 1255, 1298, 1136, 618, 1330, 1443, 136, 600, 566, 753, 748, 664, 984, 718, 895, 609, 1225, 1195, 482, 1096, 786, 752, 460, 458, 1331, 1173, 1100, 1410, 1261, 88, 932, 1129, 25, 1186, 1247, 694, 536, 1429, 1132, 1038, 424, 1064, 74, 1056, 667, 732, 764, 1355, 523, 1095, 588, 1167, 590, 552, 1449, 182, 1404, 436, 259, 1207, 995, 110, 1323, 1131, 576, 1284, 1206, 1369, 1333, 602, 4, 1442, 1489, 578, 975, 324, 561, 750, 419, 1407, 742, 166, 1486, 604, 263, 972, 627, 1279, 176, 1412, 222, 111, 745, 172, 1434, 1399, 1311, 711, 980, 285, 1406, 1188, 1452, 586, 793, 1168, 459, 144, 81, 288, 321, 592, 771, 327, 1295, 196, 291, 836, 744, 898, 957, 1197, 494, 973, 1087, 311, 1424, 1461, 1253, 1264, 227, 1072, 1265, 1237, 1205, 71, 1230, 371, 596, 163, 1380, 200, 369, 808, 717, 843, 238, 649, 579, 443, 849, 1032, 233, 1105, 343, 856, 1347, 1200, 707, 855, 1398, 51, 817, 1037, 272, 96, 844, 1379, 854, 909, 1189, 628, 1490, 1023, 1224, 130, 1267, 880, 1138, 1377, 1202, 616, 638, 31, 646, 971, 217, 615, 1390, 725, 1162, 281, 1098, 634, 658, 70, 746, 340, 1432, 445, 1351, 710, 1159, 865, 1361, 1260, 408, 34, 706, 900, 1226, 392, 129, 1346, 557, 303, 882, 1042, 69, 101, 396, 286, 235, 1210, 142, 951, 366, 1077, 256, 830, 513, 776, 1433, 1357, 614, 688, 797, 1360, 52, 992, 712, 1343, 937, 138, 930, 85, 1335, 498, 878, 943, 709, 934, 203, 448, 386, 1448, 901, 1068, 631, 904, 1300, 874, 770, 24, 760, 1269, 859, 478, 1080, 89, 550, 1053, 42, 1419, 850, 1078, 503, 1297, 1319, 447, 1411, 382, 123, 1047, 657, 738, 947, 1085, 877, 193, 312, 295, 568, 1185, 535, 492, 279, 1400, 305, 1220, 231, 690, 767, 1154, 1378, 221, 490, 141, 323, 879, 1024, 1296, 1465, 92, 1145, 575, 507, 27, 1371, 632, 120, 440, 792, 781, 1036, 1155, 32, 399, 965, 863, 1480, 775, 1152, 837, 14, 1479, 661, 1325, 301, 841, 888, 574, 117, 1288, 1270, 868, 173, 355, 848, 547, 471, 689, 284, 722, 134, 1216, 530, 385, 521, 1182, 1057, 1462, 450, 137, 1468, 1011, 1367, 1228, 968, 363, 417, 1208, 1338, 1233, 484, 777, 926, 701, 226, 412, 1441, 502, 201, 344, 978, 580, 907, 1221, 389, 36, 94, 158, 151, 1175, 629, 177, 1435, 354, 763, 380, 1176, 1337, 197, 1318, 1171, 150, 240, 840, 886, 428, 1108, 420, 1388, 935, 807, 802, 697, 228, 680, 368, 1426, 38, 1353, 1362, 532, 1339, 695, 1110, 751, 988, 169, 696, 372, 1050, 432, 698, 413, 1464, 1165, 1322, 289, 788, 280, 326, 304, 491, 234, 740, 743, 1259, 543, 539, 702, 157, 911, 1278, 1363, 154, 724, 1211, 676, 162, 852, 774, 1262, 1003, 115, 29, 573, 1416, 1239, 97, 969, 663, 1277, 21, 570, 483, 783, 1231, 831, 1238, 1073, 1386, 1439, 1051, 252, 1123, 622, 1163, 655, 126, 161, 585, 805, 1217, 387, 9, 999, 806, 1334, 1493, 1137, 519, 630, 635, 181, 798, 1352, 384, 1179, 418, 1052, 1314, 477, 55, 553, 164, 838, 1088, 857, 276, 872, 307, 693, 334, 98, 346, 211, 611, 656, 325, 727, 803, 1286, 1456, 309, 475, 122, 699, 511, 509, 1014, 379, 12, 1306, 414, 433, 515, 1447, 875, 612, 54, 1029, 1107, 149, 422, 682, 1394, 1413, 981, 731, 64, 846, 675, 216, 1345, 121, 145, 1049, 1431, 892, 1043, 1488, 623, 287, 899, 353, 497, 1169, 1140, 1007, 572, 1307, 224, 1308, 261, 275, 945, 1287, 267, 832, 293, 470, 427, 685, 1117, 941, 636, 331, 350, 292, 43, 365, 1474, 867, 80, 67, 668, 152, 255, 835, 1285, 296, 1272, 1444, 77, 871, 159, 314, 1045, 1396, 1475, 587, 132, 993, 209, 342, 1321, 15, 953, 1071, 597, 1142, 1041, 1281, 679, 1246, 1089, 723, 1428, 773, 524, 1317, 883, 109, 1128, 1158, 204, 1147, 17, 940, 938, 506, 1113, 2, 317, 373, 319, 444, 473, 1222, 787, 522, 825, 1102, 108, 283, 1116, 729, 1030, 1327, 754, 1293, 133, 401, 674, 454, 409, 529, 290, 223, 1393, 1430, 1283, 207, 1364, 562, 1405, 1219, 463, 581, 75, 1198, 826, 1150, 270, 660, 105, 1455, 704, 1395, 1204, 1020, 39, 684, 435, 974, 1215, 241, 862, 715, 954, 640, 1015, 927, 47, 431, 174, 16, 703, 456, 647, 705, 183, 960, 1144, 1092, 215, 244, 474, 976, 1122, 116, 958, 593, 601, 1074, 91, 1302, 82, 1031, 1177, 19, 229, 1453, 464, 335, 949, 1106, 955, 1254, 582, 839, 167, 1086, 920, 948, 300, 678, 1022, 822, 496, 944, 58, 1160, 179, 1290, 315, 518, 1276, 545, 1252, 400, 887, 5, 1125, 57, 648, 13, 437, 297, 254, 929, 637, 1091, 416, 1005, 913, 985, 720, 1082, 1002, 455, 124, 1201, 1156, 1001, 135, 62, 1009, 438, 277, 125, 45, 1340, 349, 143, 1028, 393, 299, 206, 651, 747, 719, 1445, 1019, 1282, 1021, 1135, 1115, 987, 769, 1487, 681, 1320, 794, 1289, 977, 551, 1114, 3, 983, 1294, 198, 83, 765, 791, 933, 390, 1291, 1062, 1437, 762, 652, 820, 1244, 76, 650, 967, 395, 1196, 546, 700, 56, 556, 643, 928, 1153, 60, 73, 358, 516, 1315, 853, 894, 903, 1048, 994, 925, 583, 961, 1312, 620, 1094, 476, 1324, 665, 316, 804, 821, 411, 1034, 1423, 889, 785, 544, 1483, 567, 1459, 1149, 11, 84, 30, 757, 659, 251, 1190, 112, 1083, 278, 442, 824, 359, 1090, 772, 131, 873, 739, 481, 1025, 598, 18, 1328, 606, 780, 0, 504, 1039, 1482, 625, 381, 1124, 829, 1309, 1375, 243, 1471, 608, 505, 106, 1365, 823, 1099, 734, 914, 510, 1370, 1292, 619, 997, 257, 607, 33, 819, 63, 1494, 156, 621, 1214, 733, 191, 495, 1040, 465, 923, 1440, 599, 1359, 351, 884, 398, 1010, 964, 205, 990, 239, 1172, 1420, 357, 866, 1251, 439, 501, 876, 1495, 180, 421, 1391, 1463, 160, 486, 1478, 1438, 799, 759, 1266, 962, 53, 812, 128, 488, 1066, 247, 480, 891, 801, 1059, 1161, 332, 936, 1069, 605, 970, 403, 1403, 924, 642, 714, 451, 1372, 910, 1243, 466, 1170, 308, 59, 1366, 639, 861, 322, 341, 595, 318, 140, 370, 104, 1383, 761, 208, 779, 610, 1303, 946, 520, 220, 1274, 479, 35, 1111, 500, 540, 1139, 526, 426, 246, 1408, 1280, 1358, 360, 525, 671, 1258, 86, 1397, 662, 425, 569, 50, 374, 1166, 1133, 1044, 23, 692, 1209, 1275, 728, 1268, 1356, 113, 893, 1213, 1417, 329, 1373, 1104, 1450, 1342, 1414, 645, 613, 1081, 1326, 565, 814, 1075, 1223, 362, 1187, 1093, 1446, 1164, 1336, 905, 1174, 333, 41, 1273, 1181, 749, 248, 603, 367, 641, 915, 219, 795, 190, 1484, 186, 434, 755, 195, 735, 1457, 194, 405, 633, 236, 1097, 118, 212, 1103, 1316, 410, 716, 1469, 1120, 469, 61, 1218, 468, 1476, 653, 1067, 531, 768, 1332, 230, 282, 376, 394, 171, 1451, 1271, 1250, 721, 815, 512, 1240, 320, 1263, 461, 851, 1065, 1401, 726, 1126, 1299, 673, 858, 268, 931, 917, 758, 1374, 188, 1130, 1454, 959, 952, 453, 449, 989, 46, 40, 102, 918, 210, 1146, 828, 713, 1385, 90, 170, 1076, 1348, 103, 756, 457, 330, 1481, 168, 508, 1194, 1060, 1184, 78, 345, 789, 1017, 809, 1257, 1245, 28, 1192, 487, 834, 139, 517, 175, 253, 950, 538, 998, 870, 1427, 860, 68, 1402, 1466, 1193, 155, 264, 336, 991, 147, 1157, 1084, 1422, 591, 192, 232, 22, 1376, 260, 361, 1027, 527, 1387, 669, 1301, 423, 48, 1241, 982, 262, 225, 402, 1046, 1329, 1079, 691, 1180, 921, 589, 302, 294, 1018, 429, 1109, 1143, 912, 310, 1350, 1477, 1229, 298, 919, 407, 827, 537, 189, 406, 214, 1472, 1248, 996, 377, 956, 617, 10, 1183, 1112, 250, 1458, 37, 677, 1425, 534, 1178, 778, 708, 687, 528, 352, 66, 1119, 908, 265, 896, 1242, 845, 1384, 1418, 213, 20, 114, 1232, 644, 148, 1004, 127, 514, 462, 178, 347, 818, 1436, 441, 1121, 452, 404, 242, 485, 548, 271, 1012, 584, 1492, 1467, 258, 1349, 1035, 784, 541, 375, 533, 1134, 666, 1118, 1101, 563, 1382, 165, 72, 782, 1305, 810, 1026, 549, 6, 672, 391, 869, 1485, 554, 266, 8, 1058, 1409, 847, 833, 313, 626, 415, 306, 467, 184, 245, 218, 1421, 1392, 594, 986, 1234, 683, 100, 800, 790, 99, 1496, 273, 397]\n"
     ]
    }
   ],
   "source": [
    "\"\"\"\n",
    "Shuffle all clips for all characters and set up the clips to be overlayed.\n",
    "Because clip overlaying is based on averaging values, overlaying a known char clip\n",
    "with itself returns itself.\n",
    "\n",
    "There are n+1 overlay options that are selected randomly, where n is the number of\n",
    "other characters to choose from. The +1 is the choice of no overlay (by overlaying with\n",
    "itself).\n",
    "\"\"\"\n",
    "\n",
    "# we need to shuffle order of the clips\n",
    "# shuffle known character\n",
    "random.shuffle(known_char_clips)\n",
    "# shuffle other characters\n",
    "for index in range(0, len(other_char_clips_array)):\n",
    "    random.shuffle(other_char_clips_array[index])\n",
    "    \n",
    "\n",
    "# overlay_clips stores the clips to overlay the known character\n",
    "overlay_clips = []\n",
    "\n",
    "# randomly select clips from the other characters to append to overlay clips\n",
    "# can also do the same clip as the known character (which represents no overlay, just the normal voice)\n",
    "# all scenarios have equal chance\n",
    "while len(overlay_clips) < len(known_char_clips):\n",
    "    # determine random index\n",
    "    # randint() is inclusive; if the int is out of bounds we interpret this as no overlay\n",
    "    rand_index = random.randint(0, len(other_char_clips_array))\n",
    "    \n",
    "    # no overlay\n",
    "    if rand_index == len(other_char_clips_array):\n",
    "        # just duplicate the clip from the known char at the same index\n",
    "        overlay_clips.append( known_char_clips[len(overlay_clips)])\n",
    "        \n",
    "    # other character's clip overlay\n",
    "    else:\n",
    "        overlay_clips.append( other_char_clips_array[rand_index][len(overlay_clips)])"
   ]
  },
  {
   "cell_type": "code",
   "execution_count": null,
   "id": "9b5df8c1",
   "metadata": {},
   "outputs": [],
   "source": []
  },
  {
   "cell_type": "code",
   "execution_count": null,
   "id": "6eebe0a7",
   "metadata": {},
   "outputs": [],
   "source": [
    "\"\"\"\n",
    "I think we should try to maintain a 70%/15%/15% split for training, validation, and testing data.\n",
    "Toward this end, I think that no clips that appear in one bracket should appear in another, even if\n",
    "we are shuffling things.\n",
    "\n",
    "These proportions can be specified above in the parameter section.\n",
    "\"\"\"\n",
    "\n",
    "# determine clip array slicing\n",
    "end_frame_train = floor(train_proportion * len(known_char_clips))\n",
    "end_frame_val = end_frame_train + floor(val_proportion * len(known_char_clips))\n",
    "\n",
    "# slice the known character clips\n",
    "known_char_clips_for_train = known_char_clips[0:end_frame_train]\n",
    "known_char_clips_for_val = known_char_clips[end_frame_train:end_frame_val]\n",
    "known_char_clips_for_test = known_char_clips[end_frame_val:]\n",
    "\n",
    "# WAIT WE CAN OVERLAY FIRST"
   ]
  },
  {
   "cell_type": "code",
   "execution_count": 62,
   "id": "5caa208f",
   "metadata": {},
   "outputs": [
    {
     "name": "stdout",
     "output_type": "stream",
     "text": [
      "(88200,)\n"
     ]
    }
   ],
   "source": [
    "to_overlay = [other_char_clips_array[0][0], other_char_clips_array[1][0]]\n",
    "test = sum(to_overlay)/len(to_overlay)\n",
    "print(test.shape)"
   ]
  },
  {
   "cell_type": "code",
   "execution_count": 63,
   "id": "184ab6d6",
   "metadata": {},
   "outputs": [],
   "source": [
    "# with open('F:/ZaknafeinII_Backup_02-02-22/daea/training_data_generation/id16/output/test_overlay.wav', 'wb') as f:\n",
    "#     np.save(f, test)\n",
    "loc = 'F:/ZaknafeinII_Backup_02-02-22/daea/training_data_generation/id16/output/test_overlay.wav'\n",
    "write(loc, 22050, test)"
   ]
  },
  {
   "cell_type": "code",
   "execution_count": 64,
   "id": "f4d3db85",
   "metadata": {},
   "outputs": [
    {
     "data": {
      "text/plain": [
       "<_io.BufferedRandom name='F:/ZaknafeinII_Backup_02-02-22/daea/training_data_generation/id16/output/test_overlay_normalized.wav'>"
      ]
     },
     "execution_count": 64,
     "metadata": {},
     "output_type": "execute_result"
    }
   ],
   "source": [
    "# # https://stackoverflow.com/questions/42492246/how-to-normalize-the-volume-of-an-audio-file-in-python\n"
   ]
  },
  {
   "cell_type": "code",
   "execution_count": null,
   "id": "9b9df880",
   "metadata": {},
   "outputs": [],
   "source": []
  }
 ],
 "metadata": {
  "kernelspec": {
   "display_name": "Python 3 (ipykernel)",
   "language": "python",
   "name": "python3"
  },
  "language_info": {
   "codemirror_mode": {
    "name": "ipython",
    "version": 3
   },
   "file_extension": ".py",
   "mimetype": "text/x-python",
   "name": "python",
   "nbconvert_exporter": "python",
   "pygments_lexer": "ipython3",
   "version": "3.9.7"
  }
 },
 "nbformat": 4,
 "nbformat_minor": 5
}
