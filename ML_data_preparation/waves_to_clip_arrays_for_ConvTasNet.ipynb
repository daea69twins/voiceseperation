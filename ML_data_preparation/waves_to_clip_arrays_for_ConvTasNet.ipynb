{
 "cells": [
  {
   "cell_type": "code",
   "execution_count": 1,
   "id": "b509164d",
   "metadata": {},
   "outputs": [],
   "source": [
    "\"\"\"\n",
    "This script loads a .wav file, and depending on the script parameters specified below, creates an array of\n",
    "overlapping audio clips.\n",
    "\n",
    "Alexander Brown, 2/2022\n",
    "\n",
    "\n",
    "\n",
    "So we want to load the entire audio clip, split it into overlapping\n",
    "clips, then save the array of those clips to file\n",
    "\n",
    "If we use exactly 25min (1500sec) of audio, with 4sec blocks and 1sec hops,\n",
    "we would get 1497 4sec clips\n",
    "\"\"\"\n",
    "\n",
    "import numpy as np\n",
    "import librosa"
   ]
  },
  {
   "cell_type": "code",
   "execution_count": 2,
   "id": "c8d5e546",
   "metadata": {},
   "outputs": [],
   "source": [
    "\"\"\"\n",
    "Specify script parameters\n",
    "\"\"\"\n",
    "# specify the working directory; note that directory notation must use '/' rather than '\\'\n",
    "folderpath = 'F:/ZaknafeinII_Backup_02-02-22/daea/prepareForCtnTraining/practice/'\n",
    "filename = 'id10016_merged_cleaned'\n",
    "extension = '.wav'\n",
    "savepath = 'F:/ZaknafeinII_Backup_02-02-22/daea/prepareForCtnTraining/practice/'\n",
    "\n",
    "clip_length = 4 # seconds\n",
    "hop_length = 0.25 # seconds\n",
    "\n",
    "# load the .wav file\n",
    "audio_orig, s_rate = librosa.load(folderpath+filename+extension) "
   ]
  },
  {
   "cell_type": "code",
   "execution_count": 3,
   "id": "ce0d4b96",
   "metadata": {},
   "outputs": [
    {
     "name": "stdout",
     "output_type": "stream",
     "text": [
      "Length of audio file in frames: 33134237 frames\n",
      "Audio sampling rate: 22050 frames/sec\n"
     ]
    }
   ],
   "source": [
    "print('Length of audio file in frames: %i frames' % (len(audio_orig)))\n",
    "print('Audio sampling rate: %i frames/sec' % (s_rate))"
   ]
  },
  {
   "cell_type": "code",
   "execution_count": 4,
   "id": "1937e340",
   "metadata": {},
   "outputs": [
    {
     "name": "stdout",
     "output_type": "stream",
     "text": [
      "Clip length: 4.000000 seconds \n",
      "Hop length: 0.250000 seconds \n",
      "Frames per clip: 88200.000000 frames \n",
      "Frames per hop: 5512.000000 frames\n"
     ]
    }
   ],
   "source": [
    "\"\"\"\n",
    "if the sampling rate is 22050 frames/sec:\n",
    "    if we want 4 sec clips, then we need clips of 88200 frames\n",
    "    if we want 1 sec hops, then we need hops of 22050 frames\n",
    "\"\"\"\n",
    "\n",
    "frames_per_clip = int(clip_length * s_rate)\n",
    "frames_per_hop = int((hop_length * s_rate)//1)\n",
    "\n",
    "print('Clip length: %f seconds \\nHop length: %f seconds \\n'\\\n",
    "      'Frames per clip: %f frames \\nFrames per hop: %f frames' \n",
    "      % (clip_length, hop_length, frames_per_clip, frames_per_hop))"
   ]
  },
  {
   "cell_type": "code",
   "execution_count": 5,
   "id": "26a680e8",
   "metadata": {},
   "outputs": [
    {
     "ename": "TypeError",
     "evalue": "unsupported operand type(s) for +: 'int' and 'str'",
     "output_type": "error",
     "traceback": [
      "\u001b[1;31m---------------------------------------------------------------------------\u001b[0m",
      "\u001b[1;31mTypeError\u001b[0m                                 Traceback (most recent call last)",
      "\u001b[1;32mC:\\Users\\ZAKNAF~1\\AppData\\Local\\Temp/ipykernel_11540/3164619151.py\u001b[0m in \u001b[0;36m<module>\u001b[1;34m\u001b[0m\n\u001b[0;32m     17\u001b[0m     \u001b[1;32mif\u001b[0m \u001b[0mclip_ending_frame\u001b[0m \u001b[1;33m<\u001b[0m \u001b[0mlen\u001b[0m\u001b[1;33m(\u001b[0m\u001b[0maudio_orig\u001b[0m\u001b[1;33m)\u001b[0m\u001b[1;33m:\u001b[0m\u001b[1;33m\u001b[0m\u001b[1;33m\u001b[0m\u001b[0m\n\u001b[0;32m     18\u001b[0m         \u001b[0mcurr_clip\u001b[0m \u001b[1;33m=\u001b[0m \u001b[0mnp\u001b[0m\u001b[1;33m.\u001b[0m\u001b[0marray\u001b[0m\u001b[1;33m(\u001b[0m\u001b[0maudio_orig\u001b[0m\u001b[1;33m[\u001b[0m\u001b[0mclip_starting_frame\u001b[0m\u001b[1;33m:\u001b[0m\u001b[0mclip_ending_frame\u001b[0m\u001b[1;33m]\u001b[0m\u001b[1;33m)\u001b[0m\u001b[1;33m\u001b[0m\u001b[1;33m\u001b[0m\u001b[0m\n\u001b[1;32m---> 19\u001b[1;33m         \u001b[0msavenote\u001b[0m \u001b[1;33m=\u001b[0m \u001b[0mclip_starting_frame\u001b[0m\u001b[1;33m+\u001b[0m\u001b[1;34m'-'\u001b[0m\u001b[1;33m+\u001b[0m\u001b[0mclip_ending_frame\u001b[0m\u001b[1;33m\u001b[0m\u001b[1;33m\u001b[0m\u001b[0m\n\u001b[0m\u001b[0;32m     20\u001b[0m     \u001b[1;32melse\u001b[0m\u001b[1;33m:\u001b[0m\u001b[1;33m\u001b[0m\u001b[1;33m\u001b[0m\u001b[0m\n\u001b[0;32m     21\u001b[0m         \u001b[0mleftover\u001b[0m \u001b[1;33m=\u001b[0m \u001b[0mclip_ending_frame\u001b[0m \u001b[1;33m-\u001b[0m \u001b[0mlen\u001b[0m\u001b[1;33m(\u001b[0m\u001b[0maudio_orig\u001b[0m\u001b[1;33m)\u001b[0m\u001b[1;33m\u001b[0m\u001b[1;33m\u001b[0m\u001b[0m\n",
      "\u001b[1;31mTypeError\u001b[0m: unsupported operand type(s) for +: 'int' and 'str'"
     ]
    }
   ],
   "source": [
    "\"\"\"\n",
    "So we start at index 0, forming clips of length frames_per_clip (probably 88200 frames) \n",
    "and we jump up frames_per_hop (probably 22050 frames) before we take the next clip\n",
    "\"\"\"\n",
    "clip_starting_frame = 0\n",
    "curr_clip = None\n",
    "savenote = None\n",
    "count = 0\n",
    "\n",
    "# when we get close to the end, the clips will start pulling from the beginning\n",
    "while clip_starting_frame <= len(audio_orig):\n",
    "    \n",
    "    # determine the ending frame\n",
    "    clip_ending_frame = clip_starting_frame + frames_per_clip\n",
    "    \n",
    "    # append the array slice to the list of audio clips\n",
    "    if clip_ending_frame < len(audio_orig):\n",
    "        curr_clip = np.array(audio_orig[clip_starting_frame:clip_ending_frame])\n",
    "        savenote = clip_starting_frame+'-'+clip_ending_frame\n",
    "    else:\n",
    "        leftover = clip_ending_frame - len(audio_orig)\n",
    "        curr_clip = np.concatenate((audio_orig[clip_starting_frame:], audio_orig[0:leftover]))\n",
    "        savenote = clip_starting_frame+'-'+leftover\n",
    "        \n",
    "    # save the selected clip to file\n",
    "    librosa.output.write_wav(filename+'_'+savenote+extension, curr_clip, s_rate)\n",
    "    \n",
    "    # update the starting frame\n",
    "    clip_starting_frame = clip_starting_frame + frames_per_hop\n",
    "    count = count + 1"
   ]
  },
  {
   "cell_type": "code",
   "execution_count": null,
   "id": "dacc488b",
   "metadata": {},
   "outputs": [],
   "source": [
    "print('created %i .wav files', count)"
   ]
  },
  {
   "cell_type": "code",
   "execution_count": null,
   "id": "11b6df6b",
   "metadata": {},
   "outputs": [],
   "source": []
  },
  {
   "cell_type": "code",
   "execution_count": null,
   "id": "dc4a2824",
   "metadata": {},
   "outputs": [],
   "source": []
  }
 ],
 "metadata": {
  "kernelspec": {
   "display_name": "Python 3 (ipykernel)",
   "language": "python",
   "name": "python3"
  },
  "language_info": {
   "codemirror_mode": {
    "name": "ipython",
    "version": 3
   },
   "file_extension": ".py",
   "mimetype": "text/x-python",
   "name": "python",
   "nbconvert_exporter": "python",
   "pygments_lexer": "ipython3",
   "version": "3.9.7"
  }
 },
 "nbformat": 4,
 "nbformat_minor": 5
}
