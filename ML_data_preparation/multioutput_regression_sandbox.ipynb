{
 "cells": [
  {
   "cell_type": "code",
   "execution_count": 42,
   "id": "60f3beef",
   "metadata": {},
   "outputs": [],
   "source": [
    "import numpy as np\n",
    "import pickle\n",
    "import matplotlib.pyplot as plt\n",
    "\n",
    "from sklearn import preprocessing\n",
    "from sklearn.datasets import make_regression\n",
    "from sklearn.linear_model import LinearRegression\n",
    "from sklearn.neighbors import KNeighborsRegressor\n",
    "from sklearn.tree import DecisionTreeRegressor"
   ]
  },
  {
   "cell_type": "code",
   "execution_count": 9,
   "id": "46a6fabf",
   "metadata": {},
   "outputs": [
    {
     "name": "stdout",
     "output_type": "stream",
     "text": [
      "train_input is of shape (180518, 64)\n",
      "val_input is of shape (38683, 64)\n",
      "test_input is of shape (38683, 64)\n",
      "train_labels is of shape (180518, 64)\n",
      "val_labels is of shape (38683, 64)\n",
      "test_labels is of shape (38683, 64)\n"
     ]
    }
   ],
   "source": [
    "\"\"\"\n",
    "Open the training data.\n",
    "\"\"\"\n",
    "training_data_filepath = 'F:/ZaknafeinII_Backup_02-02-22/daea/training_data_generation/id16/output/mfcc_training_data_dict.pickle'\n",
    "\n",
    "with open(training_data_filepath, 'rb') as f:\n",
    "    data_dict = pickle.load(f)\n",
    "    \n",
    "for key in data_dict:\n",
    "    print(key, 'is of shape', data_dict.get(key).shape)"
   ]
  },
  {
   "cell_type": "code",
   "execution_count": 13,
   "id": "39225b4f",
   "metadata": {},
   "outputs": [],
   "source": [
    "\"\"\"\n",
    "Standardize/scale the data.\n",
    "\"\"\"\n",
    "\n",
    "min_max_scaler = preprocessing.MinMaxScaler()\n",
    "min_max_scaler.fit(np.concatenate((data_dict.get('train_input'),\n",
    "                                   data_dict.get('val_input'),\n",
    "                                   data_dict.get('test_input'),\n",
    "                                   data_dict.get('train_labels'),\n",
    "                                   data_dict.get('val_labels'),\n",
    "                                   data_dict.get('test_labels'))))\n",
    "\n",
    "overlap_train_scaled = min_max_scaler.transform(data_dict.get('train_input'))\n",
    "overlap_val_scaled = min_max_scaler.transform(data_dict.get('val_input'))\n",
    "overlap_test_scaled = min_max_scaler.transform(data_dict.get('test_input'))\n",
    "character_train_scaled = min_max_scaler.transform(data_dict.get('train_labels'))\n",
    "character_val_scaled = min_max_scaler.transform(data_dict.get('val_labels'))\n",
    "character_test_scaled = min_max_scaler.transform(data_dict.get('test_labels'))"
   ]
  },
  {
   "cell_type": "code",
   "execution_count": 21,
   "id": "df814c7f",
   "metadata": {},
   "outputs": [
    {
     "name": "stderr",
     "output_type": "stream",
     "text": [
      "C:\\Users\\ZAKNAF~1\\AppData\\Local\\Temp/ipykernel_10456/438024550.py:17: RuntimeWarning: divide by zero encountered in true_divide\n",
      "  imask_train = np.divide(character_train_scaled, overlap_train_scaled)\n",
      "C:\\Users\\ZAKNAF~1\\AppData\\Local\\Temp/ipykernel_10456/438024550.py:18: RuntimeWarning: divide by zero encountered in true_divide\n",
      "  imask_val = np.divide(character_val_scaled, overlap_val_scaled)\n",
      "C:\\Users\\ZAKNAF~1\\AppData\\Local\\Temp/ipykernel_10456/438024550.py:19: RuntimeWarning: divide by zero encountered in true_divide\n",
      "  imask_test = np.divide(character_test_scaled, overlap_test_scaled)\n",
      "C:\\Users\\ZAKNAF~1\\AppData\\Local\\Temp/ipykernel_10456/438024550.py:19: RuntimeWarning: invalid value encountered in true_divide\n",
      "  imask_test = np.divide(character_test_scaled, overlap_test_scaled)\n"
     ]
    }
   ],
   "source": [
    "\"\"\"\n",
    "Calculate the ideal masks such that (input vals)*(mask coefficients)=(label vals)\n",
    "So --> (mask coefficients)=(label vals)/(input vals)\n",
    "\"\"\"\n",
    "# zero_count = 0\n",
    "# minimum = -1\n",
    "# for i in overlap_train_scaled:\n",
    "#     for j in i:\n",
    "#         if j == 0:\n",
    "#             zero_count = zero_count + 1\n",
    "#         if minimum == -1 and j != 0:\n",
    "#             minimum = j\n",
    "#         if j < minimum and j != 0:\n",
    "#             minimum = j\n",
    "# print(zero_count, minimum)\n",
    "\n",
    "imask_train = np.divide(character_train_scaled, overlap_train_scaled)\n",
    "imask_val = np.divide(character_val_scaled, overlap_val_scaled)\n",
    "imask_test = np.divide(character_test_scaled, overlap_test_scaled)"
   ]
  },
  {
   "cell_type": "code",
   "execution_count": 39,
   "id": "f119e5f1",
   "metadata": {},
   "outputs": [
    {
     "name": "stdout",
     "output_type": "stream",
     "text": [
      "input shape: (180518, 64)\n",
      "input contains NaN values?: False\n",
      "input contains inf values?: False\n",
      "input datatype: float32\n",
      "output shape: (180518, 64)\n",
      "output contains NaN values?: False\n",
      "output contains inf values?: True\n",
      "output contains inf values?: False\n"
     ]
    }
   ],
   "source": [
    "\"\"\"\n",
    "Given overlap, predict imask.\n",
    "\"\"\"\n",
    "\n",
    "print('input shape:', overlap_train_scaled.shape)\n",
    "print('input contains NaN values?:', np.any(np.isnan(overlap_train_scaled)))\n",
    "print('input contains inf values?:', np.any(np.isinf(overlap_train_scaled)))\n",
    "print('input datatype:', overlap_train_scaled.dtype)\n",
    "overlap_train_scaled = overlap_train_scaled.astype('float32')\n",
    "print('output shape:', imask_train.shape)\n",
    "print('output contains NaN values?:', np.any(np.isnan(imask_train)))\n",
    "print('output contains inf values?:', np.any(np.isinf(imask_train)))\n",
    "imask_train[np.isinf(imask_train)] = 0\n",
    "print('output contains inf values?:', np.any(np.isinf(imask_train)))\n"
   ]
  },
  {
   "cell_type": "code",
   "execution_count": 40,
   "id": "efe4a4ba",
   "metadata": {},
   "outputs": [
    {
     "data": {
      "text/plain": [
       "LinearRegression()"
      ]
     },
     "execution_count": 40,
     "metadata": {},
     "output_type": "execute_result"
    }
   ],
   "source": []
  },
  {
   "cell_type": "code",
   "execution_count": null,
   "id": "9c8506fd",
   "metadata": {},
   "outputs": [],
   "source": [
    "\"\"\"\n",
    "Linear Regression\n",
    "\"\"\"\n",
    "\n",
    "model_list = [LinearRegression(), KNeighborsRegressor(), DecisionTreeRegressor()]\n",
    "\n",
    "for model_type in model_list:\n",
    "    # define model\n",
    "    model = model_type\n",
    "    # fit model\n",
    "    model.fit(overlap_train_scaled, imask_train)\n",
    "\n",
    "    x = overlap_test_scaled[0]\n",
    "    y = imask_test[0]\n",
    "    yhat = model.predict([x])[0]\n",
    "\n",
    "    x_axis_list = list(range(0, len(x)))\n",
    "    plt.plot(x_axis_list, y)\n",
    "    plt.plot(x_axis_list, yhat)\n",
    "    plt.title(str(model_type))\n",
    "    plt.show()"
   ]
  },
  {
   "cell_type": "code",
   "execution_count": null,
   "id": "3b9c30ce",
   "metadata": {},
   "outputs": [],
   "source": [
    "\"\"\"\n",
    "Knei\n",
    "\"\"\"\n",
    "\n",
    "# define model\n",
    "model = KNeighborsRegressor()\n",
    "# fit model\n",
    "model.fit(overlap_train_scaled, imask_train)\n",
    "\n",
    "x = overlap_test_scaled[0]\n",
    "y = imask_test[0]\n",
    "yhat = model.predict([x])[0]\n",
    "\n",
    "x_axis_list = list(range(0, len(x)))\n",
    "plt.plot(x_axis_list, y)\n",
    "plt.plot(x_axis_list, yhat)\n",
    "plt.title('Linear Regression')\n",
    "plt.show()"
   ]
  }
 ],
 "metadata": {
  "kernelspec": {
   "display_name": "Python 3 (ipykernel)",
   "language": "python",
   "name": "python3"
  },
  "language_info": {
   "codemirror_mode": {
    "name": "ipython",
    "version": 3
   },
   "file_extension": ".py",
   "mimetype": "text/x-python",
   "name": "python",
   "nbconvert_exporter": "python",
   "pygments_lexer": "ipython3",
   "version": "3.9.7"
  }
 },
 "nbformat": 4,
 "nbformat_minor": 5
}
