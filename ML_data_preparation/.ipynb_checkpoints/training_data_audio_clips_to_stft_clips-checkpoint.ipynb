{
 "cells": [
  {
   "cell_type": "code",
   "execution_count": 1,
   "id": "60a82ab2",
   "metadata": {},
   "outputs": [
    {
     "name": "stderr",
     "output_type": "stream",
     "text": [
      "C:\\Users\\ZaknafeinII\\anaconda3\\lib\\site-packages\\pydub\\utils.py:170: RuntimeWarning: Couldn't find ffmpeg or avconv - defaulting to ffmpeg, but may not work\n",
      "  warn(\"Couldn't find ffmpeg or avconv - defaulting to ffmpeg, but may not work\", RuntimeWarning)\n"
     ]
    }
   ],
   "source": [
    "import numpy as np\n",
    "import librosa\n",
    "import os\n",
    "import pydub\n",
    "import random\n",
    "import math\n",
    "import pickle\n",
    "\n",
    "from scipy.io.wavfile import write\n",
    "from scipy import signal"
   ]
  },
  {
   "cell_type": "code",
   "execution_count": 2,
   "id": "ee1c7627",
   "metadata": {},
   "outputs": [
    {
     "name": "stdout",
     "output_type": "stream",
     "text": [
      "train_input is of shape (1048, 88200)\n",
      "val_input is of shape (225, 88200)\n",
      "test_input is of shape (224, 88200)\n",
      "train_targets is of shape (1048, 88200)\n",
      "val_targets is of shape (225, 88200)\n",
      "test_targets is of shape (224, 88200)\n",
      "train_noise is of shape (1048, 88200)\n",
      "val_noise is of shape (225, 88200)\n",
      "test_noise is of shape (224, 88200)\n"
     ]
    }
   ],
   "source": [
    "\"\"\"\n",
    "Open the training data.\n",
    "\"\"\"\n",
    "training_data_filepath = 'F:/ZaknafeinII_Backup_02-02-22/daea/training_data_generation/id16/output/audio_training_data_dict.pickle'\n",
    "\n",
    "with open(training_data_filepath, 'rb') as f:\n",
    "    data_dict = pickle.load(f)\n",
    "    \n",
    "for key in data_dict:\n",
    "    print(key, 'is of shape', data_dict.get(key).shape)"
   ]
  },
  {
   "cell_type": "code",
   "execution_count": 6,
   "id": "329bfdd8",
   "metadata": {},
   "outputs": [
    {
     "name": "stdout",
     "output_type": "stream",
     "text": [
      "processing train_input\n",
      "processing val_input\n",
      "processing test_input\n",
      "processing train_targets\n",
      "processing val_targets\n",
      "processing test_targets\n",
      "processing train_noise\n",
      "processing val_noise\n",
      "processing test_noise\n",
      "train_input is of shape (1048, 129, 691)\n",
      "val_input is of shape (225, 129, 691)\n",
      "test_input is of shape (224, 129, 691)\n",
      "train_targets is of shape (1048, 129, 691)\n",
      "val_targets is of shape (225, 129, 691)\n",
      "test_targets is of shape (224, 129, 691)\n",
      "train_noise is of shape (1048, 129, 691)\n",
      "val_noise is of shape (225, 129, 691)\n",
      "test_noise is of shape (224, 129, 691)\n"
     ]
    }
   ],
   "source": [
    "stft_dict = {}\n",
    "fs = 22050\n",
    "\n",
    "for key in data_dict:\n",
    "    print('processing', key)\n",
    "    tmp_list = []\n",
    "\n",
    "    # might have affects on model to have paddings zeros, not sure\n",
    "    # might be worth ensuring length % 256 == 0\n",
    "    for clip in data_dict.get(key):\n",
    "        _, _, Zxx = signal.stft(clip, fs, nperseg=256)\n",
    "        tmp_list.append(Zxx)\n",
    "\n",
    "    stft_dict[key] = np.array(tmp_list)\n",
    "        \n",
    "for key in stft_dict:\n",
    "    print(key, 'is of shape', stft_dict.get(key).shape)"
   ]
  },
  {
   "cell_type": "code",
   "execution_count": null,
   "id": "7812a74c",
   "metadata": {},
   "outputs": [],
   "source": [
    "savepath = 'F:/ZaknafeinII_Backup_02-02-22/daea/training_data_generation/id16/output/stft_training_data_dict.pickle'\n",
    "\n",
    "with open(savepath, 'wb') as f:\n",
    "    pickle.dump(stft_dict, f, protocol=pickle.HIGHEST_PROTOCOL)"
   ]
  },
  {
   "cell_type": "code",
   "execution_count": null,
   "id": "9fc06b9c",
   "metadata": {},
   "outputs": [],
   "source": []
  }
 ],
 "metadata": {
  "kernelspec": {
   "display_name": "Python 3 (ipykernel)",
   "language": "python",
   "name": "python3"
  },
  "language_info": {
   "codemirror_mode": {
    "name": "ipython",
    "version": 3
   },
   "file_extension": ".py",
   "mimetype": "text/x-python",
   "name": "python",
   "nbconvert_exporter": "python",
   "pygments_lexer": "ipython3",
   "version": "3.9.7"
  }
 },
 "nbformat": 4,
 "nbformat_minor": 5
}
