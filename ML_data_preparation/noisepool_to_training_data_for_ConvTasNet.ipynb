{
 "cells": [
  {
   "cell_type": "code",
   "execution_count": 10,
   "id": "4ab63971",
   "metadata": {},
   "outputs": [],
   "source": [
    "\"\"\" import necessary libraries \"\"\"\n",
    "\n",
    "import os\n",
    "import soundfile as sf\n",
    "import librosa\n",
    "import random\n",
    "\n",
    "from pydub import AudioSegment\n"
   ]
  },
  {
   "cell_type": "code",
   "execution_count": 11,
   "id": "39cb4053",
   "metadata": {},
   "outputs": [],
   "source": [
    "# user-specific variables\n",
    "char_path = 'F:/ZaknafeinII_Backup_02-02-22/daea/prepareForCtnTraining/practice/exp_char/'\n",
    "noisepool_path = 'F:/ZaknafeinII_Backup_02-02-22/daea/prepareForCtnTraining/practice/exp_noisepool/'\n",
    "output_path = 'F:/ZaknafeinII_Backup_02-02-22/daea/prepareForCtnTraining/practice/output/'\n",
    "\n",
    "# the max number of noise clips to be overlayed over the char clip\n",
    "# for each char clip, a random number from 1 to max_overlays will be overlayed\n",
    "max_overlays = 3"
   ]
  },
  {
   "cell_type": "code",
   "execution_count": 19,
   "id": "5d298bc0",
   "metadata": {},
   "outputs": [
    {
     "name": "stdout",
     "output_type": "stream",
     "text": [
      "['id10016_merged', 'id10018_merged', 'id10020_merged']\n"
     ]
    }
   ],
   "source": [
    "# iterable object creation\n",
    "char_clip_names = os.listdir(char_path)\n",
    "noisepool_dirs = os.listdir(noisepool_path)\n",
    "print(noisepool_dirs)\n",
    "\n",
    "for char_clip_name in char_clip_names:\n",
    "    \n",
    "    char_clip = librosa.load(char_path + char_clip_name)\n",
    "    \n",
    "    # randomly determine how many noise clips to overlay (inclusive, inclusive)\n",
    "    to_overlay = random.randint(1, max_overlays)\n",
    "    \n",
    "    # iterate equal to to_overlay to build the noise clip\n",
    "    merged_noise_clip = None\n",
    "    noisepool_dirs_used = []\n",
    "    for i in range(0, to_overlay):\n",
    "        # randomly select a noise character\n",
    "        # cannot be a character that we have already used\n",
    "        # because one person cannot speak over themselves in a conversation\n",
    "        selected_dir = None\n",
    "        while selected_dir = None or selected_dir in noisepool_dirs_used:\n",
    "            selected_dir = noisepool_dirs[random.randint(0, len(noisepool_dirs))]\n",
    "        noisepool_dirs_used.append(selected_dir)\n",
    "        \n",
    "        # now we randomly select a clip from that noise character's dir\n",
    "        \n",
    "    \n",
    "    \n",
    "    \n",
    "#     # number of frames = 4 minutes * 60 seconds * 22050 frames per second \n",
    "#     summed_duration = 0\n",
    "#     # merged_wav = None\n",
    "    \n",
    "#     curr_char_dir = pc_specific_path + '/' + character_id\n",
    "#     #print(curr_char_dir)\n",
    "#     # iterate over each audio directory belonging to that character\n",
    "    \n",
    "#     char_specific_clips = os.listdir(curr_char_dir)\n",
    "#     for clip_folder in char_specific_clips:\n",
    "#         #print(clip_folder)\n",
    "#         clips = os.listdir(curr_char_dir + '/' + clip_folder)\n",
    "#         for clip in clips:\n",
    "#             clip_filepath = curr_char_dir + '/' + clip_folder + '/' + clip\n",
    "#             #print(clip_filepath)\n",
    "#             audio = AudioSegment.from_file(\"C:/Users/eholy/Desktop/SD/vox2/vox2_dev_aac_partaa~/dev/aac/id00029/96Z18I2UKAE/00001.m4a\").set_frame_rate(22050)\n",
    "#             audio_array = audio.get_array_of_samples()\n",
    "#             summed_duration = summed_duration + len(audio_array)\n",
    "#             if summed_duration > 5292000:\n",
    "#                 id_over_4.append(curr_char_dir)\n",
    "#                 break\n",
    "#         #print(summed_duration)\n",
    "#             #sf.write(output_path + '/' + 'test.wav', audio_array, 22050)\n",
    "#             #print(audio_array)\n",
    "            \n",
    "        \n",
    "# print(len(id_over_4))\n",
    "        \n",
    "        \n",
    "            "
   ]
  },
  {
   "cell_type": "code",
   "execution_count": null,
   "id": "38bd2b98",
   "metadata": {},
   "outputs": [],
   "source": []
  }
 ],
 "metadata": {
  "kernelspec": {
   "display_name": "Python 3 (ipykernel)",
   "language": "python",
   "name": "python3"
  },
  "language_info": {
   "codemirror_mode": {
    "name": "ipython",
    "version": 3
   },
   "file_extension": ".py",
   "mimetype": "text/x-python",
   "name": "python",
   "nbconvert_exporter": "python",
   "pygments_lexer": "ipython3",
   "version": "3.9.7"
  }
 },
 "nbformat": 4,
 "nbformat_minor": 5
}
