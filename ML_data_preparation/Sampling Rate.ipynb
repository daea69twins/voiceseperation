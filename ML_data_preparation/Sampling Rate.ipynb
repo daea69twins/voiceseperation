{
 "cells": [
  {
   "cell_type": "code",
   "execution_count": 6,
   "id": "11c685f8",
   "metadata": {},
   "outputs": [
    {
     "name": "stdout",
     "output_type": "stream",
     "text": [
      "loud:  -18.552535272815255  quiet:  -33.697225325491466\n",
      "loud:  -28.553370343003508\n"
     ]
    }
   ],
   "source": [
    "import librosa\n",
    "from pydub import AudioSegment\n",
    "\n",
    "clean_path = 'C:/Users/eholy/Desktop/SD/output2/clean/ABrown_merged_100084950-100173150.wav'\n",
    "noise_path = 'C:/Users/eholy/Desktop/SD/output2/noise/noiseclip4_1voices.wav'\n",
    "\n",
    "# clean_audio, clean_sr = librosa.load(clean_path)\n",
    "# noise_audio, noise_sr = librosa.load(noise_path)\n",
    "\n",
    "#print(\"clean: \", clean_sr, \" noise_sr: \", noise_sr)\n",
    "\n",
    "loud_audio = AudioSegment.from_file(clean_path, format=\"wav\")\n",
    "quiet_audio = AudioSegment.from_file(noise_path, format=\"wav\")\n",
    "print(\"loud: \", loud_audio.dBFS, \" quiet: \", quiet_audio.dBFS)\n",
    "loud_audio -= 10\n",
    "print(\"loud: \", loud_audio.dBFS)"
   ]
  },
  {
   "cell_type": "code",
   "execution_count": 7,
   "id": "030a6a78",
   "metadata": {},
   "outputs": [
    {
     "name": "stdout",
     "output_type": "stream",
     "text": [
      "-25.679848217496872\n"
     ]
    }
   ],
   "source": [
    "import librosa\n",
    "from pydub import AudioSegment\n",
    "import os\n",
    "\n",
    "total_db = 0\n",
    "count_clip = 0\n",
    "\n",
    "noisepool_path = 'C:/Users/eholy/Desktop/SD/voxshattered/'\n",
    "noisepool_dirs = os.listdir(noisepool_path)\n",
    "for folder in noisepool_dirs:\n",
    "    noisepool_folder = os.listdir(noisepool_path + '/' + folder)\n",
    "    for clip in noisepool_folder:\n",
    "        audio = AudioSegment.from_file(noisepool_path + '/' + folder + '/' + clip)\n",
    "        total_db += audio.dBFS\n",
    "        count_clip += 1\n",
    "    \n",
    "average = total_db / count_clip\n",
    "print(total_db/count_clip)"
   ]
  },
  {
   "cell_type": "code",
   "execution_count": 9,
   "id": "5ea04f20",
   "metadata": {},
   "outputs": [],
   "source": [
    "import librosa\n",
    "from pydub import AudioSegment\n",
    "import os\n",
    "\n",
    "average = total_db/count_clip\n",
    "orig_path = 'C:/Users/eholy/Desktop/SD/git/brown_files/ABrown_merged/ABrown_merged/'\n",
    "parallel_path = 'C:/Users/eholy/Desktop/SD/brown_reduced/'\n",
    "\n",
    "orig_dir = os.listdir(orig_path)\n",
    "\n",
    "for clip in orig_dir:\n",
    "    audio = AudioSegment.from_file(orig_path + clip)\n",
    "    audio = audio.apply_gain(average - audio.dBFS)\n",
    "    audio.export(parallel_path + clip, format='wav')"
   ]
  }
 ],
 "metadata": {
  "kernelspec": {
   "display_name": "Python 3 (ipykernel)",
   "language": "python",
   "name": "python3"
  },
  "language_info": {
   "codemirror_mode": {
    "name": "ipython",
    "version": 3
   },
   "file_extension": ".py",
   "mimetype": "text/x-python",
   "name": "python",
   "nbconvert_exporter": "python",
   "pygments_lexer": "ipython3",
   "version": "3.9.7"
  }
 },
 "nbformat": 4,
 "nbformat_minor": 5
}
