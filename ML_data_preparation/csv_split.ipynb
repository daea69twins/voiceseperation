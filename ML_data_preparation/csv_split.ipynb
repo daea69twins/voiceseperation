{
 "cells": [
  {
   "cell_type": "code",
   "execution_count": 1,
   "id": "a00ba908",
   "metadata": {},
   "outputs": [],
   "source": [
    "import csv\n",
    "import random"
   ]
  },
  {
   "cell_type": "code",
   "execution_count": 2,
   "id": "18bd1776",
   "metadata": {},
   "outputs": [
    {
     "name": "stdout",
     "output_type": "stream",
     "text": [
      "[['0', 'clean/id10045_merged_0-88200.wav', 'noise/noiseclip0_3voices.wav', 'mixture/mixtureclip0.wav'], ['1', 'clean/id10045_merged_104728-192928.wav', 'noise/noiseclip1_1voices.wav', 'mixture/mixtureclip1.wav'], ['2', 'clean/id10045_merged_203944-292144.wav', 'noise/noiseclip2_3voices.wav', 'mixture/mixtureclip2.wav'], ['3', 'clean/id10045_merged_303160-391360.wav', 'noise/noiseclip3_3voices.wav', 'mixture/mixtureclip3.wav'], ['4', 'clean/id10045_merged_402376-490576.wav', 'noise/noiseclip4_1voices.wav', 'mixture/mixtureclip4.wav'], ['5', 'clean/id10045_merged_501592-589792.wav', 'noise/noiseclip5_1voices.wav', 'mixture/mixtureclip5.wav'], ['6', 'clean/id10045_merged_600808-689008.wav', 'noise/noiseclip6_3voices.wav', 'mixture/mixtureclip6.wav'], ['7', 'clean/id10045_merged_700024-788224.wav', 'noise/noiseclip7_3voices.wav', 'mixture/mixtureclip7.wav'], ['8', 'clean/id10045_merged_804752-892952.wav', 'noise/noiseclip8_1voices.wav', 'mixture/mixtureclip8.wav']]\n"
     ]
    }
   ],
   "source": [
    "filepath = 'F:/ZaknafeinII_Backup_02-02-22/daea/prepareForCtnTraining/practice/output/metadata.csv'\n",
    "outputpath = 'F:/ZaknafeinII_Backup_02-02-22/daea/prepareForCtnTraining/practice/output/'\n",
    "train_prop = 0.7\n",
    "val_prop = 0.15\n",
    "# test is whatever is left\n",
    "\n",
    "csvfile = open(filepath, newline='')\n",
    "csvreader = csv.reader(csvfile, delimiter=',', quotechar='|')\n",
    "\n",
    "csvcontents = []\n",
    "for row in csvreader:\n",
    "    csvcontents.append(row)\n",
    "    \n",
    "# remove the header row\n",
    "headerrow = csvcontents[0]\n",
    "csvcontents = csvcontents[1:]\n",
    "\n",
    "print(csvcontents)"
   ]
  },
  {
   "cell_type": "code",
   "execution_count": 3,
   "id": "2d9d242b",
   "metadata": {},
   "outputs": [
    {
     "name": "stdout",
     "output_type": "stream",
     "text": [
      "[['1', 'clean/id10045_merged_104728-192928.wav', 'noise/noiseclip1_1voices.wav', 'mixture/mixtureclip1.wav'], ['3', 'clean/id10045_merged_303160-391360.wav', 'noise/noiseclip3_3voices.wav', 'mixture/mixtureclip3.wav'], ['5', 'clean/id10045_merged_501592-589792.wav', 'noise/noiseclip5_1voices.wav', 'mixture/mixtureclip5.wav'], ['7', 'clean/id10045_merged_700024-788224.wav', 'noise/noiseclip7_3voices.wav', 'mixture/mixtureclip7.wav'], ['0', 'clean/id10045_merged_0-88200.wav', 'noise/noiseclip0_3voices.wav', 'mixture/mixtureclip0.wav'], ['8', 'clean/id10045_merged_804752-892952.wav', 'noise/noiseclip8_1voices.wav', 'mixture/mixtureclip8.wav'], ['4', 'clean/id10045_merged_402376-490576.wav', 'noise/noiseclip4_1voices.wav', 'mixture/mixtureclip4.wav'], ['2', 'clean/id10045_merged_203944-292144.wav', 'noise/noiseclip2_3voices.wav', 'mixture/mixtureclip2.wav'], ['6', 'clean/id10045_merged_600808-689008.wav', 'noise/noiseclip6_3voices.wav', 'mixture/mixtureclip6.wav']]\n"
     ]
    }
   ],
   "source": [
    "random.shuffle(csvcontents)\n",
    "print(csvcontents)"
   ]
  },
  {
   "cell_type": "code",
   "execution_count": null,
   "id": "c8b21ea2",
   "metadata": {},
   "outputs": [],
   "source": [
    "train_csv = open(outputpath+'train_metadata.csv', 'w', newline='')\n",
    "val_csv = open(outputpath+'val_metadata.csv', 'w', newline='')\n",
    "test_csv = open(outputpath+'test_metadata.csv', 'w', newline='')\n",
    "\n",
    "row_count = len(csvcontents)\n",
    "val_start = int(len(csvcontents)*train_csv)"
   ]
  }
 ],
 "metadata": {
  "kernelspec": {
   "display_name": "Python 3 (ipykernel)",
   "language": "python",
   "name": "python3"
  },
  "language_info": {
   "codemirror_mode": {
    "name": "ipython",
    "version": 3
   },
   "file_extension": ".py",
   "mimetype": "text/x-python",
   "name": "python",
   "nbconvert_exporter": "python",
   "pygments_lexer": "ipython3",
   "version": "3.9.7"
  }
 },
 "nbformat": 4,
 "nbformat_minor": 5
}
