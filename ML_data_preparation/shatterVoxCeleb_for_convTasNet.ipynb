{
 "cells": [
  {
   "cell_type": "code",
   "execution_count": 1,
   "id": "afc790de",
   "metadata": {},
   "outputs": [],
   "source": [
    "\"\"\" import necessary libraries \"\"\"\n",
    "\n",
    "import os\n",
    "import soundfile as sf\n",
    "import librosa\n",
    "from pydub import AudioSegment\n",
    "import numpy as np\n"
   ]
  },
  {
   "cell_type": "code",
   "execution_count": 10,
   "id": "0274612a",
   "metadata": {},
   "outputs": [],
   "source": [
    "merged = []\n",
    "audio1 = AudioSegment.from_file(\"C:/Users/ZaknafeinII/Desktop/University_of_Iowa/4_Senior/Spring/ECE4890_SD/voiceseperation/ML_data_preparation/MiniLibriMix/train/mix_clean/14-212-0013_7926-254949-0054.wav\").set_frame_rate(22050)\n",
    "audio_array1 = np.array(audio.get_array_of_samples())\n",
    "audio2 = AudioSegment.from_file(\"C:/Users/ZaknafeinII/Desktop/University_of_Iowa/4_Senior/Spring/ECE4890_SD/voiceseperation/ML_data_preparation/MiniLibriMix/train/mix_clean/14-212-0013_7926-254949-0054.wav\").set_frame_rate(22050)\n",
    "audio_array2 = np.array(audio.get_array_of_samples())\n",
    "\n",
    "merged = np.append(merged, audio_array1)\n",
    "merged = np.append(merged, audio_array2)\n",
    "\n"
   ]
  },
  {
   "cell_type": "code",
   "execution_count": 2,
   "id": "dd23bc08",
   "metadata": {},
   "outputs": [
    {
     "ename": "FileNotFoundError",
     "evalue": "[WinError 3] The system cannot find the path specified: 'C:/Users/eholy/Desktop/SD/vox2/vox2_dev_aac_partaa~/dev/aac'",
     "output_type": "error",
     "traceback": [
      "\u001b[1;31m---------------------------------------------------------------------------\u001b[0m",
      "\u001b[1;31mFileNotFoundError\u001b[0m                         Traceback (most recent call last)",
      "\u001b[1;32mC:\\Users\\ZAKNAF~1\\AppData\\Local\\Temp/ipykernel_14228/1959377891.py\u001b[0m in \u001b[0;36m<module>\u001b[1;34m\u001b[0m\n\u001b[0;32m     13\u001b[0m \u001b[1;33m\u001b[0m\u001b[0m\n\u001b[0;32m     14\u001b[0m \u001b[1;31m# iterable object creation to iterate over each person's folder in the the dataset\u001b[0m\u001b[1;33m\u001b[0m\u001b[1;33m\u001b[0m\u001b[0m\n\u001b[1;32m---> 15\u001b[1;33m \u001b[0mcharacter_ids\u001b[0m \u001b[1;33m=\u001b[0m \u001b[0mos\u001b[0m\u001b[1;33m.\u001b[0m\u001b[0mlistdir\u001b[0m\u001b[1;33m(\u001b[0m\u001b[0mpc_specific_path\u001b[0m\u001b[1;33m)\u001b[0m\u001b[1;33m\u001b[0m\u001b[1;33m\u001b[0m\u001b[0m\n\u001b[0m\u001b[0;32m     16\u001b[0m \u001b[1;33m\u001b[0m\u001b[0m\n\u001b[0;32m     17\u001b[0m \u001b[1;32mfor\u001b[0m \u001b[0mcharacter_id\u001b[0m \u001b[1;32min\u001b[0m \u001b[0mcharacter_ids\u001b[0m\u001b[1;33m:\u001b[0m\u001b[1;33m\u001b[0m\u001b[1;33m\u001b[0m\u001b[0m\n",
      "\u001b[1;31mFileNotFoundError\u001b[0m: [WinError 3] The system cannot find the path specified: 'C:/Users/eholy/Desktop/SD/vox2/vox2_dev_aac_partaa~/dev/aac'"
     ]
    }
   ],
   "source": [
    "\"\"\" iterate over voxceleb2 directory \"\"\"\n",
    "\n",
    "# user-specific variables\n",
    "pc_specific_path = 'C:/Users/eholy/Desktop/SD/vox2/vox2_dev_aac_partaa~/dev/aac'\n",
    "output_path = 'C:/Users/eholy/Desktop/SD/voxshattered/'\n",
    "id_over_4 = []\n",
    "# number of frames = 4 minutes * 60 seconds * 22050 frames per second \n",
    "num_frames = 5292000\n",
    "frame_rate = 22050\n",
    "clip_length = 4 # seconds\n",
    "hop_length = .25 # seconds\n",
    "frames_per_clip = int(frame_rate * clip_length)\n",
    "\n",
    "# iterable object creation to iterate over each person's folder in the the dataset\n",
    "character_ids = os.listdir(pc_specific_path)\n",
    "\n",
    "for character_id in character_ids:\n",
    "    print(len(id_over_4))\n",
    "    \n",
    "    summed_duration = 0\n",
    "    merged_wav = [] # used to hold all of the wav files that have been iterated over\n",
    "    \n",
    "    curr_char_dir = pc_specific_path + '/' + character_id\n",
    "    length_flag = False\n",
    "    # iterate over each audio directory belonging to that character (different interviews, etc)\n",
    "    char_specific_clips = os.listdir(curr_char_dir)\n",
    "    folder_counter = 0\n",
    "    for clip_folder in char_specific_clips:\n",
    "        if folder_counter > 0:\n",
    "            # iterative over the wav files in each clip folder\n",
    "            clips = os.listdir(curr_char_dir + '/' + clip_folder)\n",
    "            for clip in clips:\n",
    "                clip_filepath = curr_char_dir + '/' + clip_folder + '/' + clip\n",
    "\n",
    "                # load audio file and standardize the frame rate\n",
    "                audio = AudioSegment.from_file(clip_filepath).set_frame_rate(frame_rate)\n",
    "\n",
    "                audio_array = np.array(audio.get_array_of_samples())\n",
    "\n",
    "                summed_duration += len(audio_array)\n",
    "\n",
    "                #merged_wav = np.concatenate((merged_wav, audio_array), axis=None)\n",
    "                merged_wav = np.append(merged_wav, audio_array)\n",
    "                sf.write(output_path + str(character_id) + '/' + str(character_id) + '_' + 'test' + '.wav', merged_wav, frame_rate)\n",
    "\n",
    "                if summed_duration > num_frames:\n",
    "\n",
    "                    length_flag = True\n",
    "                    id_over_4.append(curr_char_dir)\n",
    "                    #os.mkdir(output_path + str(character_id) + '/')\n",
    "                    trunc_wav = merged_wav[0:num_frames]\n",
    "    #                 sf.write(output_path + str(character_id) + '/' + str(character_id) + '_' + 'test' + '.wav', trunc_wav, frame_rate)\n",
    "\n",
    "                    clip_starting_frame = 0\n",
    "\n",
    "                    while clip_starting_frame <= len(trunc_wav):\n",
    "\n",
    "                        clip_ending_frame = clip_starting_frame + frames_per_clip\n",
    "\n",
    "                        if clip_ending_frame < len(trunc_wav):\n",
    "                            curr_clip = np.array(trunc_wav[clip_starting_frame:clip_ending_frame])\n",
    "                            savenote = str(clip_starting_frame) + '-' + str(clip_ending_frame)\n",
    "                            sf.write(output_path + str(character_id) + '/' + str(character_id) + '_' + savenote + '.wav', curr_clip, frame_rate)\n",
    "                            clip_starting_frame = clip_ending_frame\n",
    "\n",
    "                    break\n",
    "        \n",
    "            if length_flag:\n",
    "                break\n",
    "        folder_counter += 1\n",
    "            \n",
    "        \n",
    "\n",
    "        \n",
    "            "
   ]
  },
  {
   "cell_type": "code",
   "execution_count": null,
   "id": "c07c4837",
   "metadata": {},
   "outputs": [],
   "source": []
  }
 ],
 "metadata": {
  "kernelspec": {
   "display_name": "Python 3 (ipykernel)",
   "language": "python",
   "name": "python3"
  },
  "language_info": {
   "codemirror_mode": {
    "name": "ipython",
    "version": 3
   },
   "file_extension": ".py",
   "mimetype": "text/x-python",
   "name": "python",
   "nbconvert_exporter": "python",
   "pygments_lexer": "ipython3",
   "version": "3.9.7"
  }
 },
 "nbformat": 4,
 "nbformat_minor": 5
}
