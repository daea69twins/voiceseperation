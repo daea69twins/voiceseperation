{
 "cells": [
  {
   "cell_type": "code",
   "execution_count": 1,
   "id": "afc790de",
   "metadata": {},
   "outputs": [],
   "source": [
    "\"\"\" import necessary libraries \"\"\"\n",
    "\n",
    "import os\n",
    "import soundfile as sf\n",
    "import librosa\n",
    "from pydub import AudioSegment\n",
    "import numpy as np\n"
   ]
  },
  {
   "cell_type": "code",
   "execution_count": null,
   "id": "dd23bc08",
   "metadata": {},
   "outputs": [
    {
     "name": "stdout",
     "output_type": "stream",
     "text": [
      "122774\n",
      "293528\n",
      "632215\n",
      "824137\n"
     ]
    }
   ],
   "source": [
    "\"\"\" iterate over voxceleb2 directory \"\"\"\n",
    "\n",
    "# user-specific variables\n",
    "pc_specific_path = 'C:/Users/eholy/Desktop/SD/vox2/vox2_dev_aac_partaa~/dev/aac'\n",
    "output_path = 'C:/Users/eholy/Desktop/SD/voxshattered'\n",
    "id_over_4 = []\n",
    "# number of frames = 4 minutes * 60 seconds * 22050 frames per second \n",
    "num_frames = 5292000\n",
    "frame_rate = 22050\n",
    "\n",
    "# iterable object creation to iterate over each person's folder in the the dataset\n",
    "character_ids = os.listdir(pc_specific_path)\n",
    "\n",
    "for character_id in character_ids:\n",
    "    summed_duration = 0\n",
    "    merged_wav = [] # used to hold all of the wav files that have been iterated over\n",
    "    \n",
    "    curr_char_dir = pc_specific_path + '/' + character_id\n",
    "    length_flag = False\n",
    "\n",
    "    # iterate over each audio directory belonging to that character (different interviews, etc)\n",
    "    char_specific_clips = os.listdir(curr_char_dir)\n",
    "    for clip_folder in char_specific_clips:\n",
    "        \n",
    "        # iterative over the wav files in each clip folder\n",
    "        clips = os.listdir(curr_char_dir + '/' + clip_folder)\n",
    "        for clip in clips:\n",
    "            clip_filepath = curr_char_dir + '/' + clip_folder + '/' + clip\n",
    "\n",
    "            # load audio file and standardize the frame rate\n",
    "            # audio = AudioSegment.from_file(\"C:/Users/eholy/Desktop/SD/vox2/vox2_dev_aac_partaa~/dev/aac/id00029/96Z18I2UKAE/00001.m4a\").set_frame_rate(22050)\n",
    "            audio = AudioSegment.from_file(clip_filepath).set_frame_rate(frame_rate)\n",
    "            # print(\"length of merg: \" + str(len(merged_wav)) + \" / id \" + str(character_id))\n",
    "            \n",
    "            audio_array = audio.get_array_of_samples()\n",
    "            summed_duration += len(audio_array)\n",
    "            merged_wav = np.array(sum(merged_wav, audio_array))\n",
    "            print(summed_duration)\n",
    "\n",
    "            #summed_duration = summed_duration + len(audio_array)\n",
    "            if summed_duration > num_frames:\n",
    "                id_over_4.append(curr_char_dir)\n",
    "                trunc_wav = merged_wav[0:num_frames]\n",
    "                length_flag = True\n",
    "                break\n",
    "        if lengh_flag:\n",
    "            break\n",
    "        \n",
    "    break\n",
    "\n",
    "        #print(summed_duration)\n",
    "            #sf.write(output_path + '/' + 'test.wav', audio_array, 22050)\n",
    "            #print(audio_array)\n",
    "            \n",
    "        \n",
    "print(len(id_over_4))\n",
    "        \n",
    "        \n",
    "            "
   ]
  },
  {
   "cell_type": "code",
   "execution_count": null,
   "id": "c07c4837",
   "metadata": {},
   "outputs": [],
   "source": []
  }
 ],
 "metadata": {
  "kernelspec": {
   "display_name": "Python 3 (ipykernel)",
   "language": "python",
   "name": "python3"
  },
  "language_info": {
   "codemirror_mode": {
    "name": "ipython",
    "version": 3
   },
   "file_extension": ".py",
   "mimetype": "text/x-python",
   "name": "python",
   "nbconvert_exporter": "python",
   "pygments_lexer": "ipython3",
   "version": "3.9.7"
  }
 },
 "nbformat": 4,
 "nbformat_minor": 5
}
