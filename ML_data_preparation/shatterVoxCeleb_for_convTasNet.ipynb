{
 "cells": [
  {
   "cell_type": "code",
   "execution_count": 2,
   "id": "afc790de",
   "metadata": {},
   "outputs": [
    {
     "name": "stderr",
     "output_type": "stream",
     "text": [
      "C:\\Users\\eholy\\anaconda3\\envs\\tf\\lib\\site-packages\\pydub\\utils.py:170: RuntimeWarning: Couldn't find ffmpeg or avconv - defaulting to ffmpeg, but may not work\n",
      "  warn(\"Couldn't find ffmpeg or avconv - defaulting to ffmpeg, but may not work\", RuntimeWarning)\n"
     ]
    }
   ],
   "source": [
    "\"\"\" import necessary libraries \"\"\"\n",
    "\n",
    "import os\n",
    "import soundfile as sf\n",
    "import librosa\n",
    "from pydub import AudioSegment\n"
   ]
  },
  {
   "cell_type": "code",
   "execution_count": null,
   "id": "dd23bc08",
   "metadata": {},
   "outputs": [],
   "source": [
    "\"\"\" iterate over voxceleb2 directory \"\"\"\n",
    "\n",
    "# user-specific variables\n",
    "pc_specific_path = 'C:/Users/eholy/Desktop/SD/vox2/vox2_dev_aac_partaa~/dev/aac'\n",
    "output_path = 'C:/Users/eholy/Desktop/SD/voxshattered'\n",
    "id_over_4 = []\n",
    "\n",
    "# iterable object creation\n",
    "character_ids = os.listdir(pc_specific_path)\n",
    "\n",
    "for character_id in character_ids:\n",
    "    \n",
    "    # number of frames = 4 minutes * 60 seconds * 22050 frames per second \n",
    "    summed_duration = 0\n",
    "    # merged_wav = None\n",
    "    \n",
    "    curr_char_dir = pc_specific_path + '/' + character_id\n",
    "    #print(curr_char_dir)\n",
    "    # iterate over each audio directory belonging to that character\n",
    "    \n",
    "    char_specific_clips = os.listdir(curr_char_dir)\n",
    "    for clip_folder in char_specific_clips:\n",
    "        #print(clip_folder)\n",
    "        clips = os.listdir(curr_char_dir + '/' + clip_folder)\n",
    "        for clip in clips:\n",
    "            clip_filepath = curr_char_dir + '/' + clip_folder + '/' + clip\n",
    "            #print(clip_filepath)\n",
    "            audio = AudioSegment.from_file(\"C:/Users/eholy/Desktop/SD/vox2/vox2_dev_aac_partaa~/dev/aac/id00029/96Z18I2UKAE/00001.m4a\").set_frame_rate(22050)\n",
    "            audio_array = audio.get_array_of_samples()\n",
    "            summed_duration = summed_duration + len(audio_array)\n",
    "            if summed_duration > 5292000:\n",
    "                id_over_4.append(curr_char_dir)\n",
    "                break\n",
    "        #print(summed_duration)\n",
    "            #sf.write(output_path + '/' + 'test.wav', audio_array, 22050)\n",
    "            #print(audio_array)\n",
    "            \n",
    "        \n",
    "print(len(id_over_4))\n",
    "        \n",
    "        \n",
    "            "
   ]
  },
  {
   "cell_type": "code",
   "execution_count": null,
   "id": "c07c4837",
   "metadata": {},
   "outputs": [],
   "source": []
  }
 ],
 "metadata": {
  "kernelspec": {
   "display_name": "Python 3 (ipykernel)",
   "language": "python",
   "name": "python3"
  },
  "language_info": {
   "codemirror_mode": {
    "name": "ipython",
    "version": 3
   },
   "file_extension": ".py",
   "mimetype": "text/x-python",
   "name": "python",
   "nbconvert_exporter": "python",
   "pygments_lexer": "ipython3",
   "version": "3.9.7"
  }
 },
 "nbformat": 4,
 "nbformat_minor": 5
}
