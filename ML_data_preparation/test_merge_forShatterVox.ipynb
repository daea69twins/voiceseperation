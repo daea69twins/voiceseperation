{
 "cells": [
  {
   "cell_type": "code",
   "execution_count": null,
   "id": "f5f31d09",
   "metadata": {},
   "outputs": [],
   "source": [
    "\"\"\" import necessary libraries \"\"\"\n",
    "\n",
    "import os\n",
    "import soundfile as sf\n",
    "import librosa\n",
    "from pydub import AudioSegment\n",
    "import numpy as np\n"
   ]
  },
  {
   "cell_type": "code",
   "execution_count": null,
   "id": "95e9d836",
   "metadata": {},
   "outputs": [],
   "source": [
    "\"\"\" iterate over voxceleb2 directory \"\"\"\n",
    "\n",
    "# user-specific variables\n",
    "pc_specific_path = 'C:/Users/eholy/Desktop/SD/vox2/vox2_dev_aac_partaa~/dev/aac'\n",
    "\n",
    "\n",
    "# iterable object creation to iterate over each person's folder in the the dataset\n",
    "character_ids = os.listdir(pc_specific_path)\n",
    "\n",
    "for character_id in character_ids:\n",
    "    \n",
    "    summed_duration = 0\n",
    "    merged_wav = [] # used to hold all of the wav files that have been iterated over\n",
    "    \n",
    "    curr_char_dir = pc_specific_path + '/' + character_id\n",
    "    length_flag = False\n",
    "    # iterate over each audio directory belonging to that character (different interviews, etc)\n",
    "    char_specific_clips = os.listdir(curr_char_dir)\n",
    "    folder_counter = 0\n",
    "    for clip_folder in char_specific_clips:\n",
    "        if folder_counter > 0:\n",
    "            # iterative over the wav files in each clip folder\n",
    "            clips = os.listdir(curr_char_dir + '/' + clip_folder)\n",
    "            for clip in clips:\n",
    "                clip_filepath = curr_char_dir + '/' + clip_folder + '/' + clip\n",
    "\n",
    "                # load audio file and standardize the frame rate\n",
    "                audio = AudioSegment.from_file(clip_filepath).set_frame_rate(frame_rate)\n",
    "\n",
    "                audio_array = np.array(audio.get_array_of_samples())\n",
    "\n",
    "                summed_duration += len(audio_array)\n",
    "\n",
    "                #merged_wav = np.concatenate((merged_wav, audio_array), axis=None)\n",
    "                merged_wav = np.append(merged_wav, audio_array)\n",
    "                sf.write(output_path + str(character_id) + '/' + str(character_id) + '_' + 'test' + '.wav', merged_wav, frame_rate)\n",
    "\n",
    "                if summed_duration > num_frames:\n",
    "\n",
    "                    length_flag = True\n",
    "                    break\n",
    "        \n",
    "        if length_flag:\n",
    "                break\n",
    "        folder_counter += 1\n",
    "    break"
   ]
  }
 ],
 "metadata": {
  "kernelspec": {
   "display_name": "Python 3 (ipykernel)",
   "language": "python",
   "name": "python3"
  },
  "language_info": {
   "codemirror_mode": {
    "name": "ipython",
    "version": 3
   },
   "file_extension": ".py",
   "mimetype": "text/x-python",
   "name": "python",
   "nbconvert_exporter": "python",
   "pygments_lexer": "ipython3",
   "version": "3.9.7"
  }
 },
 "nbformat": 4,
 "nbformat_minor": 5
}
