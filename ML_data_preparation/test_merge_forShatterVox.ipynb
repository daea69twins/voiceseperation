{
 "cells": [
  {
   "cell_type": "code",
   "execution_count": 18,
   "id": "f5f31d09",
   "metadata": {},
   "outputs": [],
   "source": [
    "\"\"\" import necessary libraries \"\"\"\n",
    "\n",
    "import os\n",
    "import soundfile as sf\n",
    "import librosa\n",
    "from pydub import AudioSegment\n",
    "import numpy as np\n"
   ]
  },
  {
   "cell_type": "code",
   "execution_count": 26,
   "id": "95e9d836",
   "metadata": {},
   "outputs": [
    {
     "name": "stdout",
     "output_type": "stream",
     "text": [
      "audio_array - first index: -1413 shape:  (122774,)\n",
      "[-1413 -1620 -1623 ...   -17   -16   -12]\n",
      "actual merge- first index: -1413 shape:  (122774,)\n",
      "audio_array - first index: 1362 shape:  (170754,)\n",
      "[-1413 -1620 -1623 ...    -2    -3    -4]\n",
      "actual merge- first index: -1413 shape:  (293528,)\n",
      "audio_array - first index: -66 shape:  (338687,)\n",
      "[-1413 -1620 -1623 ...     0     0     0]\n",
      "actual merge- first index: -1413 shape:  (632215,)\n",
      "audio_array - first index: 958 shape:  (191922,)\n",
      "[-1413 -1620 -1623 ...   -11    -7    -3]\n",
      "actual merge- first index: -1413 shape:  (824137,)\n",
      "audio_array - first index: 735 shape:  (230025,)\n",
      "[-1413 -1620 -1623 ...     0     0     0]\n",
      "actual merge- first index: -1413 shape:  (1054162,)\n"
     ]
    }
   ],
   "source": [
    "\"\"\" iterate over voxceleb2 directory \"\"\"\n",
    "\n",
    "# user-specific variables\n",
    "pc_specific_path = 'C:/Users/eholy/Desktop/SD/vox2/vox2_dev_aac_partaa~/dev/aac'\n",
    "output_path = 'C:/Users/eholy/Desktop/SD/voxshattered/'\n",
    "frame_rate = 22050\n",
    "num_frames = 5292000\n",
    "\n",
    "# iterable object creation to iterate over each person's folder in the the dataset\n",
    "character_ids = os.listdir(pc_specific_path)\n",
    "\n",
    "for character_id in character_ids:\n",
    "    \n",
    "    summed_duration = 0\n",
    "    merged_wav = np.array([]) # used to hold all of the wav files that have been iterated over\n",
    "    \n",
    "    curr_char_dir = pc_specific_path + '/' + character_id\n",
    "    length_flag = False\n",
    "    # iterate over each audio directory belonging to that character (different interviews, etc)\n",
    "    char_specific_clips = os.listdir(curr_char_dir)\n",
    "    \n",
    "    for clip_folder in char_specific_clips:\n",
    "        # iterative over the wav files in each clip folder\n",
    "        clips = os.listdir(curr_char_dir + '/' + clip_folder)\n",
    "        for clip in clips:\n",
    "            clip_filepath = curr_char_dir + '/' + clip_folder + '/' + clip\n",
    "\n",
    "            # load audio file and standardize the frame rate\n",
    "            audio = AudioSegment.from_file(clip_filepath).set_frame_rate(frame_rate)\n",
    "            audio_array = np.array(audio.get_array_of_samples())\n",
    "            sf.write(output_path + str(character_id) + '/' + str(character_id) + '_' + 'rewrite' + '.wav', audio_array, frame_rate)\n",
    "            \n",
    "            if not merged_wav.any():\n",
    "                merged_wav = audio_array\n",
    "            else:\n",
    "                merged_wav = np.append(merged_wav, audio_array)\n",
    "            print('audio_array - first index: ' + str(audio_array[0]) + ' shape: ', audio_array.shape)\n",
    "\n",
    "\n",
    "            summed_duration += len(audio_array)\n",
    "\n",
    "            #merged_wav = np.concatenate((merged_wav, audio_array), axis=None)\n",
    "            \n",
    "            print(merged_wav)\n",
    "            print('actual merge- first index: ' + str(merged_wav[0]) + ' shape: ', merged_wav.shape)\n",
    "            sf.write(output_path + str(character_id) + '/' + str(character_id) + '_' + 'test' + '.wav', merged_wav, frame_rate)\n",
    "\n",
    "            if summed_duration > 1000000:\n",
    "\n",
    "                length_flag = True\n",
    "                break\n",
    "            \n",
    "                \n",
    "        break\n",
    "        \n",
    "        if length_flag:\n",
    "                break\n",
    "    \n",
    "    break"
   ]
  }
 ],
 "metadata": {
  "kernelspec": {
   "display_name": "Python 3 (ipykernel)",
   "language": "python",
   "name": "python3"
  },
  "language_info": {
   "codemirror_mode": {
    "name": "ipython",
    "version": 3
   },
   "file_extension": ".py",
   "mimetype": "text/x-python",
   "name": "python",
   "nbconvert_exporter": "python",
   "pygments_lexer": "ipython3",
   "version": "3.9.7"
  }
 },
 "nbformat": 4,
 "nbformat_minor": 5
}
