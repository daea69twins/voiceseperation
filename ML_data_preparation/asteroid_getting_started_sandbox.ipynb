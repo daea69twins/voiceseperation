{
 "cells": [
  {
   "cell_type": "code",
   "execution_count": 1,
   "id": "f8399cd6",
   "metadata": {},
   "outputs": [],
   "source": [
    "# original code:\n",
    "# https://github.com/asteroid-team/asteroid/blob/master/notebooks/00_GettingStarted.ipynb\n",
    "\n",
    "# Asteroid is based on PyTorch and PyTorch-Lightning.\n",
    "from torch import optim\n",
    "from pytorch_lightning import Trainer\n",
    "\n",
    "# We train the same model architecture that we used for inference above.\n",
    "from asteroid.models import ConvTasNet\n",
    "\n",
    "# In this example we use Permutation Invariant Training (PIT) and the SI-SDR loss.\n",
    "from asteroid.losses import pairwise_neg_sisdr, PITLossWrapper\n",
    "\n",
    "# MiniLibriMix is a tiny version of LibriMix (https://github.com/JorisCos/LibriMix),\n",
    "# which is a free speech separation dataset.\n",
    "from asteroid.data import LibriMix\n",
    "\n",
    "# Asteroid's System is a convenience wrapper for PyTorch-Lightning.\n",
    "from asteroid.engine import System\n",
    "\n",
    "from custom_dataset_sandbox import CustomMixture\n",
    "\n"
   ]
  },
  {
   "cell_type": "code",
   "execution_count": 2,
   "id": "712bd6bf",
   "metadata": {},
   "outputs": [
    {
     "name": "stdout",
     "output_type": "stream",
     "text": [
      "Drop 0 utterances from 800 (shorter than 3 seconds)\n",
      "Drop 0 utterances from 200 (shorter than 3 seconds)\n",
      "Drop 0 utterances from 3 (shorter than 3 seconds)\n"
     ]
    }
   ],
   "source": [
    "# This will automatically download MiniLibriMix from Zenodo on the first run.\n",
    "train_loader, val_loader = LibriMix.loaders_from_mini(task=\"sep_clean\", batch_size=16)\n",
    "\n",
    "# train_loader, val_loader = LibriMix.mini_from_download(task=\"sep_clean\")#, {\"num_workers\": 8})\n",
    "csv_path = \"C:/Users/ZaknafeinII/Desktop/University_of_Iowa/4_Senior/Spring/ECE4890_SD/voiceseperation/ML_data_preparation/MiniLibriMix/metadata\"\n",
    "# train_loader = CustomMixture(csv_path, \"example_train\")\n",
    "# val_loader = CustomMixture(csv_path, \"example_val\")\n",
    "\n",
    "train_loader = LibriMix(\"C:/Users/ZaknafeinII/Desktop/University_of_Iowa/4_Senior/Spring/ECE4890_SD/voiceseperation/ML_data_preparation/MiniLibriMix/metadata/test_libri/\", task=\"sep_clean\", sample_rate=16000, n_src=2, segment=3, return_id=False)\n",
    "# val_loader = LibriMix(\"C:/Users/ZaknafeinII/Desktop/University_of_Iowa/4_Senior/Spring/ECE4890_SD/voiceseperation/ML_data_preparation/MiniLibriMix/metadata/test_libri/\", task=\"sep_clean\", sample_rate=16000, n_src=2, segment=3, return_id=False)\n",
    "# Tell DPRNN that we want to separate to 2 sources.\n",
    "model = ConvTasNet(n_src=2)\n",
    "\n",
    "# PITLossWrapper works with any loss function.\n",
    "loss = PITLossWrapper(pairwise_neg_sisdr, pit_from=\"pw_mtx\")\n",
    "\n",
    "optimizer = optim.Adam(model.parameters(), lr=1e-3)\n",
    "\n",
    "system = System(model, optimizer, loss, train_loader, val_loader)"
   ]
  },
  {
   "cell_type": "code",
   "execution_count": 3,
   "id": "17d44aaf",
   "metadata": {},
   "outputs": [
    {
     "name": "stdout",
     "output_type": "stream",
     "text": [
      "<class 'asteroid.data.librimix_dataset.LibriMix'>\n",
      "<class 'torch.utils.data.dataloader.DataLoader'>\n"
     ]
    },
    {
     "ename": "AttributeError",
     "evalue": "'DataLoader' object has no attribute '__getitem__'",
     "output_type": "error",
     "traceback": [
      "\u001b[1;31m---------------------------------------------------------------------------\u001b[0m",
      "\u001b[1;31mAttributeError\u001b[0m                            Traceback (most recent call last)",
      "\u001b[1;32mC:\\Users\\ZAKNAF~1\\AppData\\Local\\Temp/ipykernel_8804/657956126.py\u001b[0m in \u001b[0;36m<module>\u001b[1;34m\u001b[0m\n\u001b[0;32m     11\u001b[0m \u001b[1;33m\u001b[0m\u001b[0m\n\u001b[0;32m     12\u001b[0m \u001b[0mtrain_loader\u001b[0m\u001b[1;33m.\u001b[0m\u001b[0m__getitem__\u001b[0m\u001b[1;33m(\u001b[0m\u001b[1;36m0\u001b[0m\u001b[1;33m)\u001b[0m\u001b[1;33m\u001b[0m\u001b[1;33m\u001b[0m\u001b[0m\n\u001b[1;32m---> 13\u001b[1;33m \u001b[0mval_loader\u001b[0m\u001b[1;33m.\u001b[0m\u001b[0m__getitem__\u001b[0m\u001b[1;33m(\u001b[0m\u001b[1;36m0\u001b[0m\u001b[1;33m)\u001b[0m\u001b[1;33m\u001b[0m\u001b[1;33m\u001b[0m\u001b[0m\n\u001b[0m\u001b[0;32m     14\u001b[0m \u001b[1;33m\u001b[0m\u001b[0m\n",
      "\u001b[1;31mAttributeError\u001b[0m: 'DataLoader' object has no attribute '__getitem__'"
     ]
    }
   ],
   "source": [
    "# from torch import cuda\n",
    "# import torch\n",
    "# print(cuda.device_count())\n",
    "# print(torch.version.cuda)\n",
    "# print(torch.cuda.is_available())\n",
    "\n",
    "# # print(type(model))\n",
    "\n",
    "print(type(train_loader))\n",
    "print(type(val_loader))\n",
    "\n",
    "train_loader.__getitem__(0)\n",
    "val_loader.__getitem__(0)\n",
    "\n"
   ]
  },
  {
   "cell_type": "code",
   "execution_count": null,
   "id": "f2aae887",
   "metadata": {},
   "outputs": [],
   "source": [
    "# Train for 1 epoch using a single GPU. If you're running this on Google Colab,\n",
    "# be sure to select a GPU runtime (Runtime → Change runtime type → Hardware accelarator).\n",
    "trainer = Trainer(max_epochs=1, gpus=0, auto_select_gpus=False)\n",
    "trainer = Trainer()\n",
    "# trainer = Trainer()\n",
    "trainer.fit(system)"
   ]
  },
  {
   "cell_type": "code",
   "execution_count": null,
   "id": "e1c5b0f9",
   "metadata": {},
   "outputs": [],
   "source": []
  }
 ],
 "metadata": {
  "kernelspec": {
   "display_name": "Python 3 (ipykernel)",
   "language": "python",
   "name": "python3"
  },
  "language_info": {
   "codemirror_mode": {
    "name": "ipython",
    "version": 3
   },
   "file_extension": ".py",
   "mimetype": "text/x-python",
   "name": "python",
   "nbconvert_exporter": "python",
   "pygments_lexer": "ipython3",
   "version": "3.9.7"
  }
 },
 "nbformat": 4,
 "nbformat_minor": 5
}
