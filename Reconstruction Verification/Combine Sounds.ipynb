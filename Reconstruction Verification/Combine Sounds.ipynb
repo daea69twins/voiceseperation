{
 "cells": [
  {
   "cell_type": "code",
   "execution_count": 9,
   "id": "31d15070",
   "metadata": {},
   "outputs": [],
   "source": [
    "\"\"\"\n",
    "combines two audio files\n",
    "\n",
    "\"\"\"\n",
    "\n",
    "import os\n",
    "import soundfile as sf\n",
    "import librosa\n",
    "from pydub import AudioSegment\n",
    "import numpy as np\n",
    "\n",
    "sound1_filepath ='C:/Users/eholy/Desktop/SD/git/voiceseperation/Wrapper/id10353_merged.wav'\n",
    "sound2_filepath = 'C:/Users/eholy/Desktop/SD/git/voiceseperation/Wrapper/id10449_merged.wav'\n",
    "\n",
    "sounds_comb_filepath = 'C:/Users/eholy/Desktop/SD/git/voiceseperation/Wrapper/merged.wav'\n",
    "\n",
    "#sound1 = AudioSegment.from_wav(sound1_filepath)\n",
    "#sound2 = AudioSegment.from_wav(sound2_filepath)\n",
    "\n",
    "sound1, s_rate1 = librosa.load(sound1_filepath)\n",
    "sound2, s_rate2 = librosa.load(sound2_filepath)\n",
    "\n",
    "#np.array(sum(overlap_array)/len(overlap_array))\n",
    "\n",
    "sounds_comb = np.array(sum([sound1, sound2])/len([sound1, sound2]))\n",
    "#sounds_comb.export(sounds_comb_filepath, format='wav')\n",
    "sf.write(sounds_comb_filepath, sounds_comb, s_rate1)"
   ]
  }
 ],
 "metadata": {
  "kernelspec": {
   "display_name": "Python 3 (ipykernel)",
   "language": "python",
   "name": "python3"
  },
  "language_info": {
   "codemirror_mode": {
    "name": "ipython",
    "version": 3
   },
   "file_extension": ".py",
   "mimetype": "text/x-python",
   "name": "python",
   "nbconvert_exporter": "python",
   "pygments_lexer": "ipython3",
   "version": "3.9.7"
  }
 },
 "nbformat": 4,
 "nbformat_minor": 5
}
