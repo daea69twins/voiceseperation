{
 "cells": [
  {
   "cell_type": "code",
   "execution_count": 1,
   "id": "31d15070",
   "metadata": {},
   "outputs": [
    {
     "name": "stderr",
     "output_type": "stream",
     "text": [
      "C:\\Users\\eholy\\anaconda3\\envs\\tf\\lib\\site-packages\\pydub\\utils.py:170: RuntimeWarning: Couldn't find ffmpeg or avconv - defaulting to ffmpeg, but may not work\n",
      "  warn(\"Couldn't find ffmpeg or avconv - defaulting to ffmpeg, but may not work\", RuntimeWarning)\n"
     ]
    },
    {
     "data": {
      "text/plain": [
       "<_io.BufferedRandom name='C:/Users/eholy/Desktop/SD/reconstruction_verification/combined audio/audio_comb.wav'>"
      ]
     },
     "execution_count": 1,
     "metadata": {},
     "output_type": "execute_result"
    }
   ],
   "source": [
    "\"\"\"\n",
    "combines two audio files\n",
    "\n",
    "\"\"\"\n",
    "\n",
    "import os\n",
    "import soundfile as sf\n",
    "import librosa\n",
    "from pydub import AudioSegment\n",
    "\n",
    "sound1_filepath ='C:/Users/eholy/Desktop/SD/reconstruction_verification/raw_audio/id10484_4sec.wav'\n",
    "sound2_filepath = 'C:/Users/eholy/Desktop/SD/reconstruction_verification/raw_audio/id10168_4sec.wav'\n",
    "\n",
    "sounds_comb_filepath = 'C:/Users/eholy/Desktop/SD/reconstruction_verification/combined audio/audio_comb.wav'\n",
    "\n",
    "sound1 = AudioSegment.from_wav(sound1_filepath)\n",
    "sound2 = AudioSegment.from_wav(sound2_filepath)\n",
    "\n",
    "sounds_comb = sum([sound1, sound2, sound1])\n",
    "sounds_comb.export(sounds_comb_filepath, format='wav')"
   ]
  }
 ],
 "metadata": {
  "kernelspec": {
   "display_name": "Python 3 (ipykernel)",
   "language": "python",
   "name": "python3"
  },
  "language_info": {
   "codemirror_mode": {
    "name": "ipython",
    "version": 3
   },
   "file_extension": ".py",
   "mimetype": "text/x-python",
   "name": "python",
   "nbconvert_exporter": "python",
   "pygments_lexer": "ipython3",
   "version": "3.9.7"
  }
 },
 "nbformat": 4,
 "nbformat_minor": 5
}
