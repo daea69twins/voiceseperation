{
 "cells": [
  {
   "cell_type": "code",
   "execution_count": null,
   "id": "6c4809ae",
   "metadata": {},
   "outputs": [],
   "source": [
    "\"\"\"\n",
    "import necessary libraries\n",
    "\"\"\"\n",
    "\n",
    "#pip install resemblyzer\n",
    "#pip install spectralcluster\n",
    "\n",
    "from resemblyzer import preprocess_wav, VoiceEncoder\n",
    "from pathlib import Path\n",
    "from spectralcluster import SpectralClusterer"
   ]
  },
  {
   "cell_type": "code",
   "execution_count": null,
   "id": "b7755d40",
   "metadata": {},
   "outputs": [],
   "source": [
    "\"\"\"\n",
    "set the file paths\n",
    "\"\"\"\n",
    "\n",
    "#give the file path to your audio file\n",
    "audio_file_path = sounds_comb_filepath = 'C:/Users/eholy/Desktop/SD/reconstruction_verification/combined audio/katiestoes.wav'\n",
    "#audio_file_path = 'C:/Users/eholy/Documents/Sound recordings/Recording.wav'\n",
    "\n",
    "wav_fpath = Path(audio_file_path)"
   ]
  },
  {
   "cell_type": "code",
   "execution_count": null,
   "id": "856e4373",
   "metadata": {},
   "outputs": [],
   "source": [
    "\"\"\"\n",
    "create clustering specifications\n",
    "\"\"\"\n",
    "clusterer = SpectralClusterer(\n",
    "    min_clusters=2,\n",
    "    max_clusters=100)\n",
    "\n",
    "# variable names changed, look into how these fit now \n",
    "# clusterer = SpectralClusterer(\n",
    "#     min_clusters=2,\n",
    "#     max_clusters=100,\n",
    "#     p_percentile=0.90,\n",
    "#     gaussian_blur_sigma=1)\n",
    "\n",
    "labels = clusterer.predict(cont_embeds)"
   ]
  },
  {
   "cell_type": "code",
   "execution_count": null,
   "id": "59a29ffc",
   "metadata": {},
   "outputs": [],
   "source": [
    "\"\"\"\n",
    "run audio file through label clustering\n",
    "\"\"\"\n",
    "def create_labelling(labels,wav_splits):\n",
    "    from resemblyzer import sampling_rate\n",
    "    times = [((s.start + s.stop) / 2) / sampling_rate for s in wav_splits]\n",
    "    labelling = []\n",
    "    start_time = 0\n",
    "\n",
    "    for i,time in enumerate(times):\n",
    "        if i>0 and labels[i]!=labels[i-1]:\n",
    "            temp = [str(labels[i-1]),start_time,time]\n",
    "            labelling.append(tuple(temp))\n",
    "            start_time = time\n",
    "        if i==len(times)-1:\n",
    "            temp = [str(labels[i]),start_time,time]\n",
    "            labelling.append(tuple(temp))\n",
    "\n",
    "    return labelling\n",
    "  \n",
    "labelling = create_labelling(labels,wav_splits)\n",
    "print(labelling)"
   ]
  }
 ],
 "metadata": {
  "kernelspec": {
   "display_name": "Python 3 (ipykernel)",
   "language": "python",
   "name": "python3"
  },
  "language_info": {
   "codemirror_mode": {
    "name": "ipython",
    "version": 3
   },
   "file_extension": ".py",
   "mimetype": "text/x-python",
   "name": "python",
   "nbconvert_exporter": "python",
   "pygments_lexer": "ipython3",
   "version": "3.9.7"
  }
 },
 "nbformat": 4,
 "nbformat_minor": 5
}
