{
 "cells": [
  {
   "cell_type": "code",
   "execution_count": null,
   "id": "943fd90c",
   "metadata": {},
   "outputs": [],
   "source": [
    "\"\"\"\n",
    "import necessary libraries\n",
    "\"\"\"\n",
    "\n",
    "#pip install resemblyzer\n",
    "#pip install spectralcluster\n",
    "\n",
    "from resemblyzer import preprocess_wav, VoiceEncoder\n",
    "from pathlib import Path\n",
    "from spectralcluster import SpectralClusterer"
   ]
  },
  {
   "cell_type": "code",
   "execution_count": null,
   "id": "8e36342b",
   "metadata": {},
   "outputs": [],
   "source": [
    "\"\"\"\n",
    "set the file paths\n",
    "\"\"\"\n",
    "\n",
    "#give the file path to your audio file\n",
    "audio_file_path = sounds_comb_filepath = 'C:/Users/eholy/Desktop/SD/reconstruction_verification/combined audio/katiestoes.wav'\n",
    "#audio_file_path = 'C:/Users/eholy/Documents/Sound recordings/Recording.wav'\n",
    "\n",
    "wav_fpath = Path(audio_file_path)"
   ]
  },
  {
   "cell_type": "code",
   "execution_count": null,
   "id": "32ff525e",
   "metadata": {},
   "outputs": [],
   "source": [
    "\"\"\"\n",
    "\"\"\"\n",
    "clusterer = SpectralClusterer(\n",
    "    min_clusters=2,\n",
    "    max_clusters=100)\n",
    "# clusterer = SpectralClusterer(\n",
    "#     min_clusters=2,\n",
    "#     max_clusters=100,\n",
    "#     p_percentile=0.90,\n",
    "#     gaussian_blur_sigma=1)\n",
    "\n",
    "labels = clusterer.predict(cont_embeds)"
   ]
  }
 ],
 "metadata": {
  "kernelspec": {
   "display_name": "Python 3 (ipykernel)",
   "language": "python",
   "name": "python3"
  },
  "language_info": {
   "codemirror_mode": {
    "name": "ipython",
    "version": 3
   },
   "file_extension": ".py",
   "mimetype": "text/x-python",
   "name": "python",
   "nbconvert_exporter": "python",
   "pygments_lexer": "ipython3",
   "version": "3.9.7"
  }
 },
 "nbformat": 4,
 "nbformat_minor": 5
}
