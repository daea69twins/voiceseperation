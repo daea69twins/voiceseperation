{
 "cells": [
  {
   "cell_type": "code",
   "execution_count": 1,
   "id": "8fbfa2f6",
   "metadata": {},
   "outputs": [
    {
     "name": "stderr",
     "output_type": "stream",
     "text": [
      "C:\\Users\\eholy\\anaconda3\\envs\\tf\\lib\\site-packages\\pydub\\utils.py:170: RuntimeWarning: Couldn't find ffmpeg or avconv - defaulting to ffmpeg, but may not work\n",
      "  warn(\"Couldn't find ffmpeg or avconv - defaulting to ffmpeg, but may not work\", RuntimeWarning)\n"
     ]
    }
   ],
   "source": [
    "from sklearn.preprocessing import MinMaxScaler\n",
    "import numpy as np\n",
    "import librosa\n",
    "import librosa.display\n",
    "import IPython.display as ipd\n",
    "import matplotlib.pyplot as plt\n",
    "from pydub import AudioSegment\n",
    "import soundfile as sf"
   ]
  },
  {
   "cell_type": "code",
   "execution_count": null,
   "id": "2e7b75be",
   "metadata": {},
   "outputs": [],
   "source": [
    "folderpath = 'C:/Users/eholy/Desktop/SD/git/voiceseperation/Torch Custom Dataset/'\n",
    "file1 = 'id10449_merged.wav'\n",
    "\n",
    "clip_length = 4\n",
    "\n",
    "\n",
    "audio_orig1, s_rate1 = librosa.load(folderpath+file1)\n",
    "frames_per_clip = clip_length * s_rate1\n",
    "audio_trunc1 = audio_orig1[0:frames_per_clip]\n",
    "\n",
    "truncated_filepath = 'C:/Users/eholy/Desktop/SD/git/voiceseperation/Torch Custom Dataset/' + file1\n",
    "sf.write(truncated_filepath, audio_trunc1, s_rate1)"
   ]
  }
 ],
 "metadata": {
  "kernelspec": {
   "display_name": "Python 3 (ipykernel)",
   "language": "python",
   "name": "python3"
  },
  "language_info": {
   "codemirror_mode": {
    "name": "ipython",
    "version": 3
   },
   "file_extension": ".py",
   "mimetype": "text/x-python",
   "name": "python",
   "nbconvert_exporter": "python",
   "pygments_lexer": "ipython3",
   "version": "3.9.7"
  }
 },
 "nbformat": 4,
 "nbformat_minor": 5
}
