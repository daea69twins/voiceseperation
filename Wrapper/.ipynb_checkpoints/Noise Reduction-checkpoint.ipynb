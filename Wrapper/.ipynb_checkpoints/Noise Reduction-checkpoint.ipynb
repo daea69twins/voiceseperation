{
 "cells": [
  {
   "cell_type": "code",
   "execution_count": 3,
   "id": "ed3a73f0",
   "metadata": {},
   "outputs": [],
   "source": [
    "\"\"\" import necessary libraries and set directory variables \"\"\"\n",
    "\n",
    "# import the noisereduce library for noise redcuction\n",
    "import noisereduce as nr\n",
    "# import librosa library to load audio files\n",
    "import librosa\n",
    "# import IPython.display for audio file playback\n",
    "import IPython.display as ipd\n",
    "# import matplotlib.pyplot to show charts for audio files\n",
    "import matplotlib.pyplot as plt\n",
    "# imoprt soundfile to export noise reduced audio file\n",
    "import soundfile as sf\n",
    "\n",
    "# change these as necessary\n",
    "filename = \"PlaneWspeech.wav\"\n",
    "directory = 'C:/Users/eholy/Desktop/SD/git/voiceseperation/Wrapper/'"
   ]
  },
  {
   "cell_type": "code",
   "execution_count": 2,
   "id": "54c4a49e",
   "metadata": {},
   "outputs": [
    {
     "ename": "NameError",
     "evalue": "name 'plt' is not defined",
     "output_type": "error",
     "traceback": [
      "\u001b[1;31m---------------------------------------------------------------------------\u001b[0m",
      "\u001b[1;31mNameError\u001b[0m                                 Traceback (most recent call last)",
      "\u001b[1;32m~\\AppData\\Local\\Temp/ipykernel_11724/377291435.py\u001b[0m in \u001b[0;36m<module>\u001b[1;34m\u001b[0m\n\u001b[0;32m      3\u001b[0m \u001b[0mdata\u001b[0m\u001b[1;33m,\u001b[0m \u001b[0mrate\u001b[0m \u001b[1;33m=\u001b[0m \u001b[0mlibrosa\u001b[0m\u001b[1;33m.\u001b[0m\u001b[0mload\u001b[0m\u001b[1;33m(\u001b[0m\u001b[0mfilename\u001b[0m\u001b[1;33m)\u001b[0m\u001b[1;33m\u001b[0m\u001b[1;33m\u001b[0m\u001b[0m\n\u001b[0;32m      4\u001b[0m \u001b[1;33m\u001b[0m\u001b[0m\n\u001b[1;32m----> 5\u001b[1;33m \u001b[0mplt\u001b[0m\u001b[1;33m.\u001b[0m\u001b[0mfigure\u001b[0m\u001b[1;33m(\u001b[0m\u001b[1;33m)\u001b[0m\u001b[1;33m\u001b[0m\u001b[1;33m\u001b[0m\u001b[0m\n\u001b[0m\u001b[0;32m      6\u001b[0m \u001b[0mplt\u001b[0m\u001b[1;33m.\u001b[0m\u001b[0mtitle\u001b[0m\u001b[1;33m(\u001b[0m\u001b[1;34m\"Before Noise Reduction\"\u001b[0m\u001b[1;33m)\u001b[0m\u001b[1;33m\u001b[0m\u001b[1;33m\u001b[0m\u001b[0m\n\u001b[0;32m      7\u001b[0m \u001b[0mplt\u001b[0m\u001b[1;33m.\u001b[0m\u001b[0mplot\u001b[0m\u001b[1;33m(\u001b[0m\u001b[0mdata\u001b[0m\u001b[1;33m)\u001b[0m\u001b[1;33m\u001b[0m\u001b[1;33m\u001b[0m\u001b[0m\n",
      "\u001b[1;31mNameError\u001b[0m: name 'plt' is not defined"
     ]
    }
   ],
   "source": [
    "\"\"\" load in audio file and display it \"\"\"\n",
    "\n",
    "data, rate = librosa.load(filename)\n",
    "\n",
    "plt.figure()\n",
    "plt.title(\"Before Noise Reduction\")\n",
    "plt.plot(data)\n",
    "plt.show()\n",
    "\n",
    "ipd.Audio(data, rate=rate)"
   ]
  },
  {
   "cell_type": "code",
   "execution_count": null,
   "id": "7f2bcf46",
   "metadata": {},
   "outputs": [],
   "source": [
    "\"\"\" reduce the noise in the audio file, display the new audio, and export it\"\"\"\n",
    "reduced_noise = nr.reduce_noise(y=data, sr=rate)\n",
    "\n",
    "plt.figure()\n",
    "plt.title(\"After NR\")\n",
    "plt.plot(reduced_noise)\n",
    "plt.show()\n",
    "\n",
    "nr_filepath = directory + 'nr_' + filename \n",
    "sf.write(nr_filepath, reduced_noise, rate)\n",
    "\n",
    "ipd.Audio(reduced_noise, rate=rate)"
   ]
  },
  {
   "cell_type": "code",
   "execution_count": null,
   "id": "5787e449",
   "metadata": {},
   "outputs": [],
   "source": []
  }
 ],
 "metadata": {
  "kernelspec": {
   "display_name": "Python 3 (ipykernel)",
   "language": "python",
   "name": "python3"
  },
  "language_info": {
   "codemirror_mode": {
    "name": "ipython",
    "version": 3
   },
   "file_extension": ".py",
   "mimetype": "text/x-python",
   "name": "python",
   "nbconvert_exporter": "python",
   "pygments_lexer": "ipython3",
   "version": "3.9.7"
  }
 },
 "nbformat": 4,
 "nbformat_minor": 5
}
