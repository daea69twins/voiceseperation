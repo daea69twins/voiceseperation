{
 "cells": [
  {
   "cell_type": "code",
   "execution_count": null,
   "id": "a9389d54",
   "metadata": {},
   "outputs": [],
   "source": [
    "# pass through 100 arrays (100 4 second clips) and return an average mse\n",
    "\n",
    "# train, eval, test set\n",
    "\n",
    "# use inherited dataset class\n",
    "\n",
    "# loss function pwmtx"
   ]
  },
  {
   "cell_type": "code",
   "execution_count": null,
   "id": "b0f26d78",
   "metadata": {},
   "outputs": [],
   "source": []
  }
 ],
 "metadata": {
  "kernelspec": {
   "display_name": "Python 3 (ipykernel)",
   "language": "python",
   "name": "python3"
  },
  "language_info": {
   "codemirror_mode": {
    "name": "ipython",
    "version": 3
   },
   "file_extension": ".py",
   "mimetype": "text/x-python",
   "name": "python",
   "nbconvert_exporter": "python",
   "pygments_lexer": "ipython3",
   "version": "3.9.7"
  }
 },
 "nbformat": 4,
 "nbformat_minor": 5
}
