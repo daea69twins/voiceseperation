{
 "cells": [
  {
   "cell_type": "code",
   "execution_count": null,
   "id": "a9389d54",
   "metadata": {},
   "outputs": [],
   "source": [
    "# test for custom model would be MSE compared to the original convtasnet\n",
    "# would have no noise overlapped\n",
    "# could be for two, three, or more audio overlaps"
   ]
  },
  {
   "cell_type": "code",
   "execution_count": null,
   "id": "b0f26d78",
   "metadata": {},
   "outputs": [],
   "source": [
    "# have two clean audio samples from two different speakers\n",
    "# overlap the two clean voices with each other\n",
    "# overlap the combined audio with noise\n",
    "# run that noise + combined audio through our wrapper\n",
    "# take the first audio stream and the first original audio sample and compare them frame by frame\n",
    "# find the MSE of the frame differences\n",
    "# do the same for the second stream and the second clean audio sample\n",
    "\n",
    "# MSE = the difference between each frame squared / number of frames\n",
    "\n",
    "# MSE changing over time\n",
    "\n",
    "# get MSE before noise reduce and normalization\n",
    "\n",
    "# get MSE before normalization\n",
    "\n",
    "# get MSE after everything to show it got better\n",
    "\n",
    "# 3 male-male, 3 female-female, 3 male-female"
   ]
  },
  {
   "cell_type": "code",
   "execution_count": null,
   "id": "f57e6e42",
   "metadata": {},
   "outputs": [],
   "source": [
    "import noisereduce as nr\n",
    "import librosa\n",
    "import IPython.display as ipd\n",
    "import matplotlib.pyplot as plt\n",
    "from pydub import AudioSegment\n",
    "import soundfile as sf\n",
    "from torch import hub\n"
   ]
  },
  {
   "cell_type": "code",
   "execution_count": null,
   "id": "aa07b804",
   "metadata": {},
   "outputs": [],
   "source": [
    "filepath = 'C:/Users/eholy/Desktop/SD/git/voiceseperation/Wrapper/'\n",
    "\n",
    "male1 = \n",
    "male2\n",
    "male3\n",
    "female1\n",
    "female2\n",
    "female3\n",
    "\n",
    "frame_rate = 20050\n",
    "num_frames = frame_rate * 4"
   ]
  }
 ],
 "metadata": {
  "kernelspec": {
   "display_name": "Python 3 (ipykernel)",
   "language": "python",
   "name": "python3"
  },
  "language_info": {
   "codemirror_mode": {
    "name": "ipython",
    "version": 3
   },
   "file_extension": ".py",
   "mimetype": "text/x-python",
   "name": "python",
   "nbconvert_exporter": "python",
   "pygments_lexer": "ipython3",
   "version": "3.9.7"
  }
 },
 "nbformat": 4,
 "nbformat_minor": 5
}
